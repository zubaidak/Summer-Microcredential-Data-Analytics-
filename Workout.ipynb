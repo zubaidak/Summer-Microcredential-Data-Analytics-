{
  "nbformat": 4,
  "nbformat_minor": 0,
  "metadata": {
    "colab": {
      "name": "Workout.ipynb",
      "provenance": [],
      "collapsed_sections": [
        "ZVSCedbJnURQ"
      ],
      "authorship_tag": "ABX9TyNVxuO3TEw/oT+uumLFoZ6a",
      "include_colab_link": true
    },
    "kernelspec": {
      "name": "python3",
      "display_name": "Python 3"
    },
    "language_info": {
      "name": "python"
    }
  },
  "cells": [
    {
      "cell_type": "markdown",
      "metadata": {
        "id": "view-in-github",
        "colab_type": "text"
      },
      "source": [
        "<a href=\"https://colab.research.google.com/github/zubaidak/Summer-Microcredential-Data-Analytics-/blob/main/Workout.ipynb\" target=\"_parent\"><img src=\"https://colab.research.google.com/assets/colab-badge.svg\" alt=\"Open In Colab\"/></a>"
      ]
    },
    {
      "cell_type": "markdown",
      "source": [
        "# Python Practice Problems"
      ],
      "metadata": {
        "id": "xbTqdhKInLDh"
      }
    },
    {
      "cell_type": "markdown",
      "source": [
        "## Display numbers divisible by 5 from a list"
      ],
      "metadata": {
        "id": "ZVSCedbJnURQ"
      }
    },
    {
      "cell_type": "code",
      "source": [
        "def fives(n):\n",
        "  \"\"\"\n",
        "  Description: This function prints out numbers divisible by 5 from a given list of numbers.\n",
        "  Created by: Zubaida\n",
        "  Input: list of numbers\n",
        "  Output: numbers divisible by 5 from given list\n",
        "  \"\"\"\n",
        "  num = []\n",
        "  for i in n:\n",
        "      if i % 5 == 0:\n",
        "          num.append(i)\n",
        "          \n",
        "  return(num)\n",
        "  # for every item in n, divide by 5 and add it to var num and print out\n",
        "  # only the numbers divisible by 5"
      ],
      "metadata": {
        "id": "sHdxPMUonZ94"
      },
      "execution_count": 7,
      "outputs": []
    },
    {
      "cell_type": "code",
      "source": [
        "help(fives)"
      ],
      "metadata": {
        "colab": {
          "base_uri": "https://localhost:8080/"
        },
        "id": "jN9hZPpSoKxX",
        "outputId": "9be67363-09c8-4c5f-a080-8bed6398f72e"
      },
      "execution_count": 8,
      "outputs": [
        {
          "output_type": "stream",
          "name": "stdout",
          "text": [
            "Help on function fives in module __main__:\n",
            "\n",
            "fives(n)\n",
            "    Description: This function prints out numbers divisible by 5 from a given list of numbers.\n",
            "    Created by: Zubaida\n",
            "    Input: list of numbers\n",
            "    Output: numbers divisible by 5 from given list\n",
            "\n"
          ]
        }
      ]
    },
    {
      "cell_type": "code",
      "source": [
        "fives ([2, 5, 10, 23, 25, 38, 45])"
      ],
      "metadata": {
        "colab": {
          "base_uri": "https://localhost:8080/"
        },
        "id": "3WvIf_FToNaY",
        "outputId": "5c000981-7523-4f87-f29a-6f59f7d3ece4"
      },
      "execution_count": 14,
      "outputs": [
        {
          "output_type": "execute_result",
          "data": {
            "text/plain": [
              "[5, 10, 25, 45]"
            ]
          },
          "metadata": {},
          "execution_count": 14
        }
      ]
    },
    {
      "cell_type": "markdown",
      "source": [
        "## Check is the first and last number of a list is the same"
      ],
      "metadata": {
        "id": "asVgooYQrSYi"
      }
    },
    {
      "cell_type": "code",
      "source": [
        "numbers = { \"values\" : [1, 2, 3, 4, 5, 1]}\n",
        "# create a list called values in numbers list"
      ],
      "metadata": {
        "id": "iMTkPFIIrcBo"
      },
      "execution_count": 15,
      "outputs": []
    },
    {
      "cell_type": "code",
      "source": [
        "first = numbers[\"values\"][0] \n",
        "last = numbers[\"values\"][-1]"
      ],
      "metadata": {
        "id": "8HU9dCvxs0Ag"
      },
      "execution_count": 16,
      "outputs": []
    },
    {
      "cell_type": "code",
      "source": [
        "if first == last:\n",
        "    print(\"Yes the first and last numbers are the same.\")\n",
        "else:\n",
        "    print(\"No the first and last numbers are not the same.\")\n"
      ],
      "metadata": {
        "colab": {
          "base_uri": "https://localhost:8080/"
        },
        "id": "7LvPEjtWt6DQ",
        "outputId": "e2a577b7-33af-4b86-b1b4-09151abcd2c7"
      },
      "execution_count": 23,
      "outputs": [
        {
          "output_type": "stream",
          "name": "stdout",
          "text": [
            "Yes the first and last numbers are the same.\n"
          ]
        }
      ]
    },
    {
      "cell_type": "markdown",
      "source": [
        "## Display the first and last colors from a given list"
      ],
      "metadata": {
        "id": "VBnICUMMufTI"
      }
    },
    {
      "cell_type": "code",
      "source": [
        "def color_check(c):\n",
        "  \"\"\"\n",
        "  Description: print out only the first and last colors on a given list\n",
        "  Created by: Zubaida\n",
        "  Input: None\n",
        "  Output: Color names\n",
        "  \"\"\"\n",
        "  first_color = c[0]\n",
        "  last_color = c[-1]\n",
        "\n",
        "  print(\"The first color is\",first_color,\".\")\n",
        "  print(\"The last color is\",last_color,\".\")"
      ],
      "metadata": {
        "id": "W3eeF-31wti3"
      },
      "execution_count": 31,
      "outputs": []
    },
    {
      "cell_type": "code",
      "source": [
        "color_check([\"Blue\", \"Orange\", \"Red\", \"Green\",  \"Yellow\"])"
      ],
      "metadata": {
        "colab": {
          "base_uri": "https://localhost:8080/"
        },
        "id": "T-drNrn6xj7_",
        "outputId": "3c6c1781-9d6b-4950-88bf-e870738e76d7"
      },
      "execution_count": 32,
      "outputs": [
        {
          "output_type": "stream",
          "name": "stdout",
          "text": [
            "The first color is Blue .\n",
            "The last color is Yellow .\n"
          ]
        }
      ]
    },
    {
      "cell_type": "markdown",
      "source": [
        "## Input an integer (n) and computes the value of n+nn+nnn"
      ],
      "metadata": {
        "id": "xHguy8JoyUpV"
      }
    },
    {
      "cell_type": "code",
      "source": [
        "a = int(input(\"Input am integer : \"))\n",
        "num1 = int(\"%s\" % a)\n",
        "num2 = int(\"%s%s\" % (a,a))\n",
        "num3 = int(\"%s%s%s\" % (a,a,a))\n",
        "print (num1 + num2 + num3)"
      ],
      "metadata": {
        "colab": {
          "base_uri": "https://localhost:8080/"
        },
        "id": "DzrLDz-w0ScU",
        "outputId": "57461b37-fdf4-41a4-bed5-600646e3a134"
      },
      "execution_count": 38,
      "outputs": [
        {
          "output_type": "stream",
          "name": "stdout",
          "text": [
            "Input am integer : 2\n",
            "246\n"
          ]
        }
      ]
    },
    {
      "cell_type": "code",
      "source": [
        ""
      ],
      "metadata": {
        "id": "fHsd6hvcGPoy"
      },
      "execution_count": null,
      "outputs": []
    }
  ]
}