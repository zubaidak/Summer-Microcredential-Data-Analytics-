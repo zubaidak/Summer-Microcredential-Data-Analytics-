{
  "nbformat": 4,
  "nbformat_minor": 0,
  "metadata": {
    "colab": {
      "name": "Copy of Unit2_Mini_Project.ipynb",
      "provenance": [],
      "collapsed_sections": [],
      "include_colab_link": true
    },
    "kernelspec": {
      "name": "python3",
      "display_name": "Python 3"
    }
  },
  "cells": [
    {
      "cell_type": "markdown",
      "metadata": {
        "id": "view-in-github",
        "colab_type": "text"
      },
      "source": [
        "<a href=\"https://colab.research.google.com/github/zubaidak/Summer-Microcredential-Data-Analytics-/blob/main/Copy_of_Unit2_Mini_Project.ipynb\" target=\"_parent\"><img src=\"https://colab.research.google.com/assets/colab-badge.svg\" alt=\"Open In Colab\"/></a>"
      ]
    },
    {
      "cell_type": "markdown",
      "metadata": {
        "id": "Vgs8Kp4TidFQ"
      },
      "source": [
        "# Intrdouction to Python - Mini Project"
      ]
    },
    {
      "cell_type": "markdown",
      "metadata": {
        "id": "_Hq7Ny79iwgD"
      },
      "source": [
        "#Python Project – Odd or Even\n",
        "\n",
        "Ask the user for a number. Depending on whether the number is even or odd, print out an appropriate message to the user. Hint: how does an even / odd number react differently when divided by 2?\n"
      ]
    },
    {
      "cell_type": "code",
      "metadata": {
        "id": "lotvpVpvlKsR",
        "colab": {
          "base_uri": "https://localhost:8080/"
        },
        "outputId": "2ed47545-f423-4d1d-da22-c93562b676b2"
      },
      "source": [
        "num = int(input(\"Enter a number: \"))\n",
        "#ask for int input from user\n",
        "if num % 2 == 0:\n",
        "    print(\"Your number \",  num, \"is even. Even numbers have no remainders!\")\n",
        "#if the number divided by 2 has a remainder of zero, it is an even number\n",
        "else: \n",
        "    print(\"Your number \",  num, \"is odd. All odd numbers have a remainder!\")\n",
        "#else the number is odd. (Theorem: if a number is not even, it is odd)"
      ],
      "execution_count": 1,
      "outputs": [
        {
          "output_type": "stream",
          "name": "stdout",
          "text": [
            "Enter a number: 23\n",
            "Your number  23 is odd. All odd numbers have a remainder!\n"
          ]
        }
      ]
    },
    {
      "cell_type": "markdown",
      "metadata": {
        "id": "io_27RSlizno"
      },
      "source": [
        "# Bonus:\n",
        "\n",
        "1.\tIf the number is a multiple of 4, print out a different message.\n",
        "\n",
        "2.\tAsk the user for two numbers: one number to check (call it num) and one number to divide by (check). If check divides evenly into num, tell that to the user. If not, print a different appropriate message.\n"
      ]
    },
    {
      "cell_type": "code",
      "metadata": {
        "id": "5mkKtxzunuqc",
        "colab": {
          "base_uri": "https://localhost:8080/"
        },
        "outputId": "533b1000-6073-4670-c608-7561dc493d18"
      },
      "source": [
        "# Code for multiple of 4\n",
        "\n",
        "num = int(input(\"Enter a number: \"))\n",
        "#ask for int input from user\n",
        "if num %4 == 0:\n",
        "    print(\"Your number \",num, \"is a multiple of 4\")\n",
        "# if the number us divided by 4 and has a remainder of 0, it is divisible by 4\n",
        "elif num % 2 == 0:\n",
        "    print(\"The number \",num, \"is even.\")\n",
        "# else if the number divided by 2 has a remainder of zero, it is an even number\n",
        "else:\n",
        "    print(\"Your number \",num, \"is odd.\")\n",
        "# else if the number is odd. (Theorem: if a number is not even, it is odd)"
      ],
      "execution_count": 9,
      "outputs": [
        {
          "output_type": "stream",
          "name": "stdout",
          "text": [
            "Enter a number: 20\n",
            "Your number  20 is a multiple of 4\n"
          ]
        }
      ]
    },
    {
      "cell_type": "code",
      "metadata": {
        "id": "Dh1o5cAylSHB",
        "colab": {
          "base_uri": "https://localhost:8080/"
        },
        "outputId": "166228a2-dd1a-4688-b778-ff71232cab64"
      },
      "source": [
        "# Fraction code\n",
        "\n",
        "num = int(input(\"Enter the numerator: \"))\n",
        "check = int(input(\"Enter the denominator: \"))\n",
        "\n",
        "# ask user to enter \n",
        "if int(num) % 2 == 0:\n",
        "    print(\"Your number \",num, \"is even.\")\n",
        "\n",
        "# if the number divided by 2 has a remainder of zero, it is an even number\n",
        "else:\n",
        "    print(\"Your number\",num, \"is odd.\")\n",
        "# else the number is odd. (Theorem: if a number is not even, it is odd)\n",
        "\n",
        "if int(num) % int(check) == 0:\n",
        "    print(\"Numerator \",num, \" is divisible by denominator \",check)\n",
        "\n",
        "else:\n",
        "    print(\"Numerator \",num,\" is not divisible by denominator \",check)\n",
        "\n"
      ],
      "execution_count": 16,
      "outputs": [
        {
          "output_type": "stream",
          "name": "stdout",
          "text": [
            "Enter the numerator: 30\n",
            "Enter the denominator: 15\n",
            "Your number  30 is even.\n",
            "Numerator  30  is divisible by denominator  15\n"
          ]
        }
      ]
    }
  ]
}