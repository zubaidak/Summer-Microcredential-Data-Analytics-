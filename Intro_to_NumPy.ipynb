{
  "cells": [
    {
      "cell_type": "markdown",
      "metadata": {
        "id": "view-in-github",
        "colab_type": "text"
      },
      "source": [
        "<a href=\"https://colab.research.google.com/github/zubaidak/Summer-Microcredential-Data-Analytics-/blob/main/Intro_to_NumPy.ipynb\" target=\"_parent\"><img src=\"https://colab.research.google.com/assets/colab-badge.svg\" alt=\"Open In Colab\"/></a>"
      ]
    },
    {
      "cell_type": "markdown",
      "metadata": {
        "id": "IP5PvpbiFVHZ"
      },
      "source": [
        "# NumPy \n",
        "\n",
        "NumPy (or Numpy) is a Pyhton Library or Module design for Linear Algebra and Statistical Computation.\n",
        "It is one of the most important modules in python for Data Science since most all of the libraries necessary for  rely on NumPy as one of their main building blocks.\n",
        "\n",
        "Numpy is also incredibly fast, as it has bindings to other programming language libraries such as C++. "
      ]
    },
    {
      "cell_type": "markdown",
      "metadata": {
        "id": "2Tzls-YiFVHa"
      },
      "source": [
        "_______________________________"
      ]
    },
    {
      "cell_type": "markdown",
      "metadata": {
        "id": "j_01KWUZFVHa"
      },
      "source": [
        "## Using NumPy\n",
        "\n",
        "Once you've installed NumPy you can import it as a library:"
      ]
    },
    {
      "cell_type": "code",
      "execution_count": 3,
      "metadata": {
        "collapsed": true,
        "id": "bV44RDgfFVHb"
      },
      "outputs": [],
      "source": [
        "import numpy as np"
      ]
    },
    {
      "cell_type": "markdown",
      "metadata": {
        "id": "mg99qslqFVHb"
      },
      "source": [
        "Numpy has many built-in functions and capabilities. We will not have the time to cover them all; we will, however, focus on some of the most important topics such as vectors, arrays, matrices, and number generation. Let's start by discussing arrays.\n",
        "\n",
        "## Numpy Arrays\n",
        "\n",
        "NumPy arrays are the main objects that we will use in this class. \n",
        "\n",
        "Numpy arrays essentially come in two flavors: vectors and matrices. Vectors are strictly 1-dimensional arrays and matrices are 2-dimensional (but you should note a matrix can still have only one row or one column).\n",
        "\n",
        "Let's begin our introduction by exploring how to create NumPy arrays.\n",
        "\n",
        "### Creating NumPy Arrays From a Python List\n",
        "\n",
        "We can create an array by directly converting a list or list of lists:"
      ]
    },
    {
      "cell_type": "code",
      "execution_count": 4,
      "metadata": {
        "id": "tQEdVWi3FVHc",
        "outputId": "cb4e57e5-1999-4af8-b36f-831044c9d555",
        "colab": {
          "base_uri": "https://localhost:8080/"
        }
      },
      "outputs": [
        {
          "output_type": "execute_result",
          "data": {
            "text/plain": [
              "[1, 2, 3]"
            ]
          },
          "metadata": {},
          "execution_count": 4
        }
      ],
      "source": [
        "my_list = [1,2,3]\n",
        "my_list"
      ]
    },
    {
      "cell_type": "code",
      "execution_count": 5,
      "metadata": {
        "id": "hzTosAFiFVHc",
        "outputId": "839e3087-b1e0-48d8-f655-4364bcbef440",
        "colab": {
          "base_uri": "https://localhost:8080/"
        }
      },
      "outputs": [
        {
          "output_type": "execute_result",
          "data": {
            "text/plain": [
              "array([1, 2, 3])"
            ]
          },
          "metadata": {},
          "execution_count": 5
        }
      ],
      "source": [
        "np.array(my_list)"
      ]
    },
    {
      "cell_type": "code",
      "execution_count": 6,
      "metadata": {
        "id": "X4d3jMunFVHd",
        "outputId": "93921bf7-778e-4298-f5ed-97e05b1a3b4c",
        "colab": {
          "base_uri": "https://localhost:8080/"
        }
      },
      "outputs": [
        {
          "output_type": "execute_result",
          "data": {
            "text/plain": [
              "[[1, 2, 3], [4, 5, 6], [7, 8, 9]]"
            ]
          },
          "metadata": {},
          "execution_count": 6
        }
      ],
      "source": [
        "my_matrix = [[1,2,3],[4,5,6],[7,8,9]]\n",
        "my_matrix"
      ]
    },
    {
      "cell_type": "code",
      "execution_count": 7,
      "metadata": {
        "id": "1MoCea--FVHd",
        "outputId": "9fcbc7e4-6624-4339-efee-7d10112278e4",
        "colab": {
          "base_uri": "https://localhost:8080/"
        }
      },
      "outputs": [
        {
          "output_type": "execute_result",
          "data": {
            "text/plain": [
              "array([[1, 2, 3],\n",
              "       [4, 5, 6],\n",
              "       [7, 8, 9]])"
            ]
          },
          "metadata": {},
          "execution_count": 7
        }
      ],
      "source": [
        "np.array(my_matrix)"
      ]
    },
    {
      "cell_type": "markdown",
      "metadata": {
        "id": "2Qb__WXIFVHe"
      },
      "source": [
        "## Built-in Methods\n",
        "\n",
        "There are lots of built-in ways to generate Arrays"
      ]
    },
    {
      "cell_type": "markdown",
      "metadata": {
        "id": "t3oNOMOQFVHe"
      },
      "source": [
        "### arange\n",
        "\n",
        "Return evenly spaced values within a given interval."
      ]
    },
    {
      "cell_type": "code",
      "execution_count": 8,
      "metadata": {
        "id": "e5ZxDFyAFVHe",
        "outputId": "137aeb2b-0882-4c75-ff2a-e87100da31d9",
        "colab": {
          "base_uri": "https://localhost:8080/"
        }
      },
      "outputs": [
        {
          "output_type": "execute_result",
          "data": {
            "text/plain": [
              "array([ 0,  1,  2,  3,  4,  5,  6,  7,  8,  9, 10, 11, 12, 13, 14, 15, 16,\n",
              "       17, 18, 19])"
            ]
          },
          "metadata": {},
          "execution_count": 8
        }
      ],
      "source": [
        "np.arange(0,20)"
      ]
    },
    {
      "cell_type": "code",
      "execution_count": 9,
      "metadata": {
        "id": "jWMe2HcBFVHe",
        "outputId": "13a14227-ee6e-4481-ca71-f637016a7373",
        "colab": {
          "base_uri": "https://localhost:8080/"
        }
      },
      "outputs": [
        {
          "output_type": "execute_result",
          "data": {
            "text/plain": [
              "array([  0,   2,   4,   6,   8,  10,  12,  14,  16,  18,  20,  22,  24,\n",
              "        26,  28,  30,  32,  34,  36,  38,  40,  42,  44,  46,  48,  50,\n",
              "        52,  54,  56,  58,  60,  62,  64,  66,  68,  70,  72,  74,  76,\n",
              "        78,  80,  82,  84,  86,  88,  90,  92,  94,  96,  98, 100, 102,\n",
              "       104, 106, 108])"
            ]
          },
          "metadata": {},
          "execution_count": 9
        }
      ],
      "source": [
        "np.arange(0,110,2)"
      ]
    },
    {
      "cell_type": "markdown",
      "metadata": {
        "id": "zgvZqNVhFVHe"
      },
      "source": [
        "### zeros and ones\n",
        "\n",
        "Generate arrays of zeros or ones"
      ]
    },
    {
      "cell_type": "code",
      "execution_count": 10,
      "metadata": {
        "id": "MjPQ8IczFVHf",
        "outputId": "f922e245-12d4-4ae1-9bce-a227e539915b",
        "colab": {
          "base_uri": "https://localhost:8080/"
        }
      },
      "outputs": [
        {
          "output_type": "execute_result",
          "data": {
            "text/plain": [
              "array([0., 0., 0., 0., 0.])"
            ]
          },
          "metadata": {},
          "execution_count": 10
        }
      ],
      "source": [
        "np.zeros(5)"
      ]
    },
    {
      "cell_type": "code",
      "execution_count": 11,
      "metadata": {
        "id": "fcE82kkvFVHf",
        "outputId": "08b7986e-ac5b-4733-b307-8e35f573b9a6",
        "colab": {
          "base_uri": "https://localhost:8080/"
        }
      },
      "outputs": [
        {
          "output_type": "execute_result",
          "data": {
            "text/plain": [
              "array([[0., 0., 0., 0., 0., 0., 0., 0., 0., 0., 0., 0., 0., 0., 0.],\n",
              "       [0., 0., 0., 0., 0., 0., 0., 0., 0., 0., 0., 0., 0., 0., 0.],\n",
              "       [0., 0., 0., 0., 0., 0., 0., 0., 0., 0., 0., 0., 0., 0., 0.],\n",
              "       [0., 0., 0., 0., 0., 0., 0., 0., 0., 0., 0., 0., 0., 0., 0.],\n",
              "       [0., 0., 0., 0., 0., 0., 0., 0., 0., 0., 0., 0., 0., 0., 0.],\n",
              "       [0., 0., 0., 0., 0., 0., 0., 0., 0., 0., 0., 0., 0., 0., 0.],\n",
              "       [0., 0., 0., 0., 0., 0., 0., 0., 0., 0., 0., 0., 0., 0., 0.],\n",
              "       [0., 0., 0., 0., 0., 0., 0., 0., 0., 0., 0., 0., 0., 0., 0.],\n",
              "       [0., 0., 0., 0., 0., 0., 0., 0., 0., 0., 0., 0., 0., 0., 0.],\n",
              "       [0., 0., 0., 0., 0., 0., 0., 0., 0., 0., 0., 0., 0., 0., 0.],\n",
              "       [0., 0., 0., 0., 0., 0., 0., 0., 0., 0., 0., 0., 0., 0., 0.],\n",
              "       [0., 0., 0., 0., 0., 0., 0., 0., 0., 0., 0., 0., 0., 0., 0.],\n",
              "       [0., 0., 0., 0., 0., 0., 0., 0., 0., 0., 0., 0., 0., 0., 0.],\n",
              "       [0., 0., 0., 0., 0., 0., 0., 0., 0., 0., 0., 0., 0., 0., 0.],\n",
              "       [0., 0., 0., 0., 0., 0., 0., 0., 0., 0., 0., 0., 0., 0., 0.]])"
            ]
          },
          "metadata": {},
          "execution_count": 11
        }
      ],
      "source": [
        "np.zeros((15,15))"
      ]
    },
    {
      "cell_type": "code",
      "execution_count": 12,
      "metadata": {
        "id": "rxKQOnmEFVHf",
        "outputId": "8420fca7-a54a-4030-d6a3-8ba8b88128c8",
        "colab": {
          "base_uri": "https://localhost:8080/"
        }
      },
      "outputs": [
        {
          "output_type": "execute_result",
          "data": {
            "text/plain": [
              "array([1., 1., 1., 1., 1., 1., 1., 1., 1., 1., 1., 1., 1., 1., 1., 1., 1.,\n",
              "       1., 1., 1., 1., 1., 1., 1., 1., 1., 1., 1., 1., 1.])"
            ]
          },
          "metadata": {},
          "execution_count": 12
        }
      ],
      "source": [
        "np.ones(30)"
      ]
    },
    {
      "cell_type": "code",
      "execution_count": 13,
      "metadata": {
        "id": "KWvlF3H1FVHf",
        "outputId": "6af516ff-3c5c-4558-a0bd-3f81abef0566",
        "colab": {
          "base_uri": "https://localhost:8080/"
        }
      },
      "outputs": [
        {
          "output_type": "execute_result",
          "data": {
            "text/plain": [
              "array([[1., 1., 1., 1., 1., 1., 1., 1., 1., 1., 1., 1., 1., 1., 1., 1.,\n",
              "        1., 1., 1., 1., 1., 1., 1., 1., 1., 1., 1., 1., 1., 1.],\n",
              "       [1., 1., 1., 1., 1., 1., 1., 1., 1., 1., 1., 1., 1., 1., 1., 1.,\n",
              "        1., 1., 1., 1., 1., 1., 1., 1., 1., 1., 1., 1., 1., 1.],\n",
              "       [1., 1., 1., 1., 1., 1., 1., 1., 1., 1., 1., 1., 1., 1., 1., 1.,\n",
              "        1., 1., 1., 1., 1., 1., 1., 1., 1., 1., 1., 1., 1., 1.],\n",
              "       [1., 1., 1., 1., 1., 1., 1., 1., 1., 1., 1., 1., 1., 1., 1., 1.,\n",
              "        1., 1., 1., 1., 1., 1., 1., 1., 1., 1., 1., 1., 1., 1.],\n",
              "       [1., 1., 1., 1., 1., 1., 1., 1., 1., 1., 1., 1., 1., 1., 1., 1.,\n",
              "        1., 1., 1., 1., 1., 1., 1., 1., 1., 1., 1., 1., 1., 1.],\n",
              "       [1., 1., 1., 1., 1., 1., 1., 1., 1., 1., 1., 1., 1., 1., 1., 1.,\n",
              "        1., 1., 1., 1., 1., 1., 1., 1., 1., 1., 1., 1., 1., 1.],\n",
              "       [1., 1., 1., 1., 1., 1., 1., 1., 1., 1., 1., 1., 1., 1., 1., 1.,\n",
              "        1., 1., 1., 1., 1., 1., 1., 1., 1., 1., 1., 1., 1., 1.],\n",
              "       [1., 1., 1., 1., 1., 1., 1., 1., 1., 1., 1., 1., 1., 1., 1., 1.,\n",
              "        1., 1., 1., 1., 1., 1., 1., 1., 1., 1., 1., 1., 1., 1.],\n",
              "       [1., 1., 1., 1., 1., 1., 1., 1., 1., 1., 1., 1., 1., 1., 1., 1.,\n",
              "        1., 1., 1., 1., 1., 1., 1., 1., 1., 1., 1., 1., 1., 1.],\n",
              "       [1., 1., 1., 1., 1., 1., 1., 1., 1., 1., 1., 1., 1., 1., 1., 1.,\n",
              "        1., 1., 1., 1., 1., 1., 1., 1., 1., 1., 1., 1., 1., 1.],\n",
              "       [1., 1., 1., 1., 1., 1., 1., 1., 1., 1., 1., 1., 1., 1., 1., 1.,\n",
              "        1., 1., 1., 1., 1., 1., 1., 1., 1., 1., 1., 1., 1., 1.],\n",
              "       [1., 1., 1., 1., 1., 1., 1., 1., 1., 1., 1., 1., 1., 1., 1., 1.,\n",
              "        1., 1., 1., 1., 1., 1., 1., 1., 1., 1., 1., 1., 1., 1.],\n",
              "       [1., 1., 1., 1., 1., 1., 1., 1., 1., 1., 1., 1., 1., 1., 1., 1.,\n",
              "        1., 1., 1., 1., 1., 1., 1., 1., 1., 1., 1., 1., 1., 1.],\n",
              "       [1., 1., 1., 1., 1., 1., 1., 1., 1., 1., 1., 1., 1., 1., 1., 1.,\n",
              "        1., 1., 1., 1., 1., 1., 1., 1., 1., 1., 1., 1., 1., 1.],\n",
              "       [1., 1., 1., 1., 1., 1., 1., 1., 1., 1., 1., 1., 1., 1., 1., 1.,\n",
              "        1., 1., 1., 1., 1., 1., 1., 1., 1., 1., 1., 1., 1., 1.],\n",
              "       [1., 1., 1., 1., 1., 1., 1., 1., 1., 1., 1., 1., 1., 1., 1., 1.,\n",
              "        1., 1., 1., 1., 1., 1., 1., 1., 1., 1., 1., 1., 1., 1.],\n",
              "       [1., 1., 1., 1., 1., 1., 1., 1., 1., 1., 1., 1., 1., 1., 1., 1.,\n",
              "        1., 1., 1., 1., 1., 1., 1., 1., 1., 1., 1., 1., 1., 1.],\n",
              "       [1., 1., 1., 1., 1., 1., 1., 1., 1., 1., 1., 1., 1., 1., 1., 1.,\n",
              "        1., 1., 1., 1., 1., 1., 1., 1., 1., 1., 1., 1., 1., 1.],\n",
              "       [1., 1., 1., 1., 1., 1., 1., 1., 1., 1., 1., 1., 1., 1., 1., 1.,\n",
              "        1., 1., 1., 1., 1., 1., 1., 1., 1., 1., 1., 1., 1., 1.],\n",
              "       [1., 1., 1., 1., 1., 1., 1., 1., 1., 1., 1., 1., 1., 1., 1., 1.,\n",
              "        1., 1., 1., 1., 1., 1., 1., 1., 1., 1., 1., 1., 1., 1.],\n",
              "       [1., 1., 1., 1., 1., 1., 1., 1., 1., 1., 1., 1., 1., 1., 1., 1.,\n",
              "        1., 1., 1., 1., 1., 1., 1., 1., 1., 1., 1., 1., 1., 1.],\n",
              "       [1., 1., 1., 1., 1., 1., 1., 1., 1., 1., 1., 1., 1., 1., 1., 1.,\n",
              "        1., 1., 1., 1., 1., 1., 1., 1., 1., 1., 1., 1., 1., 1.],\n",
              "       [1., 1., 1., 1., 1., 1., 1., 1., 1., 1., 1., 1., 1., 1., 1., 1.,\n",
              "        1., 1., 1., 1., 1., 1., 1., 1., 1., 1., 1., 1., 1., 1.],\n",
              "       [1., 1., 1., 1., 1., 1., 1., 1., 1., 1., 1., 1., 1., 1., 1., 1.,\n",
              "        1., 1., 1., 1., 1., 1., 1., 1., 1., 1., 1., 1., 1., 1.],\n",
              "       [1., 1., 1., 1., 1., 1., 1., 1., 1., 1., 1., 1., 1., 1., 1., 1.,\n",
              "        1., 1., 1., 1., 1., 1., 1., 1., 1., 1., 1., 1., 1., 1.],\n",
              "       [1., 1., 1., 1., 1., 1., 1., 1., 1., 1., 1., 1., 1., 1., 1., 1.,\n",
              "        1., 1., 1., 1., 1., 1., 1., 1., 1., 1., 1., 1., 1., 1.],\n",
              "       [1., 1., 1., 1., 1., 1., 1., 1., 1., 1., 1., 1., 1., 1., 1., 1.,\n",
              "        1., 1., 1., 1., 1., 1., 1., 1., 1., 1., 1., 1., 1., 1.],\n",
              "       [1., 1., 1., 1., 1., 1., 1., 1., 1., 1., 1., 1., 1., 1., 1., 1.,\n",
              "        1., 1., 1., 1., 1., 1., 1., 1., 1., 1., 1., 1., 1., 1.],\n",
              "       [1., 1., 1., 1., 1., 1., 1., 1., 1., 1., 1., 1., 1., 1., 1., 1.,\n",
              "        1., 1., 1., 1., 1., 1., 1., 1., 1., 1., 1., 1., 1., 1.],\n",
              "       [1., 1., 1., 1., 1., 1., 1., 1., 1., 1., 1., 1., 1., 1., 1., 1.,\n",
              "        1., 1., 1., 1., 1., 1., 1., 1., 1., 1., 1., 1., 1., 1.]])"
            ]
          },
          "metadata": {},
          "execution_count": 13
        }
      ],
      "source": [
        "np.ones((30,30))"
      ]
    },
    {
      "cell_type": "markdown",
      "metadata": {
        "id": "qyBDePe3FVHg"
      },
      "source": [
        "### linspace\n",
        "Return evenly spaced numbers over a specified interval."
      ]
    },
    {
      "cell_type": "code",
      "execution_count": 14,
      "metadata": {
        "id": "S9ToOWUrFVHg",
        "outputId": "7e2cd337-fc07-4bb1-b361-22c18833607f",
        "colab": {
          "base_uri": "https://localhost:8080/"
        }
      },
      "outputs": [
        {
          "output_type": "execute_result",
          "data": {
            "text/plain": [
              "array([  0.,  25.,  50.,  75., 100.])"
            ]
          },
          "metadata": {},
          "execution_count": 14
        }
      ],
      "source": [
        "np.linspace(0,100,5)"
      ]
    },
    {
      "cell_type": "code",
      "execution_count": 15,
      "metadata": {
        "id": "eL0vx2g2FVHg",
        "outputId": "11ecd27f-c4cd-411b-df3c-b7ce74a0859e",
        "colab": {
          "base_uri": "https://localhost:8080/"
        }
      },
      "outputs": [
        {
          "output_type": "execute_result",
          "data": {
            "text/plain": [
              "array([ 0.        ,  0.20408163,  0.40816327,  0.6122449 ,  0.81632653,\n",
              "        1.02040816,  1.2244898 ,  1.42857143,  1.63265306,  1.83673469,\n",
              "        2.04081633,  2.24489796,  2.44897959,  2.65306122,  2.85714286,\n",
              "        3.06122449,  3.26530612,  3.46938776,  3.67346939,  3.87755102,\n",
              "        4.08163265,  4.28571429,  4.48979592,  4.69387755,  4.89795918,\n",
              "        5.10204082,  5.30612245,  5.51020408,  5.71428571,  5.91836735,\n",
              "        6.12244898,  6.32653061,  6.53061224,  6.73469388,  6.93877551,\n",
              "        7.14285714,  7.34693878,  7.55102041,  7.75510204,  7.95918367,\n",
              "        8.16326531,  8.36734694,  8.57142857,  8.7755102 ,  8.97959184,\n",
              "        9.18367347,  9.3877551 ,  9.59183673,  9.79591837, 10.        ])"
            ]
          },
          "metadata": {},
          "execution_count": 15
        }
      ],
      "source": [
        "np.linspace(0,10,50)"
      ]
    },
    {
      "cell_type": "markdown",
      "metadata": {
        "id": "lFysEi1HFVHg"
      },
      "source": [
        "## eye\n",
        "\n",
        "Creates an identity matrix"
      ]
    },
    {
      "cell_type": "code",
      "execution_count": 16,
      "metadata": {
        "id": "nkr_EFOmFVHg",
        "outputId": "bba63248-65ba-452f-e35c-d55d05abdadd",
        "colab": {
          "base_uri": "https://localhost:8080/"
        }
      },
      "outputs": [
        {
          "output_type": "execute_result",
          "data": {
            "text/plain": [
              "array([[1., 0., 0., 0., 0., 0.],\n",
              "       [0., 1., 0., 0., 0., 0.],\n",
              "       [0., 0., 1., 0., 0., 0.],\n",
              "       [0., 0., 0., 1., 0., 0.],\n",
              "       [0., 0., 0., 0., 1., 0.],\n",
              "       [0., 0., 0., 0., 0., 1.]])"
            ]
          },
          "metadata": {},
          "execution_count": 16
        }
      ],
      "source": [
        "np.eye(6)"
      ]
    },
    {
      "cell_type": "markdown",
      "metadata": {
        "id": "pj9DwrrPFVHh"
      },
      "source": [
        "## Random \n",
        "\n",
        "Numpy also has lots of ways to create random number arrays:\n",
        "\n",
        "### rand\n",
        "Create an array of the given shape and populate it with\n",
        "random samples from a uniform distribution\n",
        "over ``[0, 1)``."
      ]
    },
    {
      "cell_type": "code",
      "execution_count": 17,
      "metadata": {
        "id": "g9YAKDX0FVHh",
        "outputId": "53ca09d2-4222-4a9d-a292-503d2b1f76c2",
        "colab": {
          "base_uri": "https://localhost:8080/"
        }
      },
      "outputs": [
        {
          "output_type": "execute_result",
          "data": {
            "text/plain": [
              "array([0.46694173, 0.05346022, 0.35071359, 0.00463954, 0.78874854])"
            ]
          },
          "metadata": {},
          "execution_count": 17
        }
      ],
      "source": [
        "np.random.rand(5)"
      ]
    },
    {
      "cell_type": "code",
      "execution_count": 18,
      "metadata": {
        "id": "jIRIZVGZFVHh",
        "outputId": "8fc16cac-f1c8-47a0-a983-cf84a66cbd9e",
        "colab": {
          "base_uri": "https://localhost:8080/"
        }
      },
      "outputs": [
        {
          "output_type": "execute_result",
          "data": {
            "text/plain": [
              "array([[0.81910795, 0.54986279, 0.58418516, 0.522356  , 0.08696694,\n",
              "        0.3261383 , 0.12676167, 0.13611007, 0.95027595, 0.53239825],\n",
              "       [0.54412066, 0.28222849, 0.45686833, 0.32071119, 0.79339106,\n",
              "        0.63298498, 0.06229477, 0.38827177, 0.3376767 , 0.14302245],\n",
              "       [0.83632291, 0.28124091, 0.35849681, 0.94985075, 0.72628953,\n",
              "        0.48641445, 0.79044273, 0.5652116 , 0.91072825, 0.61019936],\n",
              "       [0.478108  , 0.94842481, 0.80023266, 0.73952529, 0.78869785,\n",
              "        0.69386104, 0.30490708, 0.53705195, 0.18594908, 0.79140826],\n",
              "       [0.22585919, 0.76505882, 0.55678312, 0.61760541, 0.03650241,\n",
              "        0.8102991 , 0.4505719 , 0.37783576, 0.88287049, 0.66758659],\n",
              "       [0.865508  , 0.17119405, 0.48343735, 0.39010277, 0.85824615,\n",
              "        0.22374473, 0.5569317 , 0.48598324, 0.81967922, 0.73257824],\n",
              "       [0.94388   , 0.69283601, 0.63641201, 0.81968893, 0.49190281,\n",
              "        0.94435428, 0.9844664 , 0.75338768, 0.91980821, 0.03617224],\n",
              "       [0.84329195, 0.55119718, 0.86165376, 0.60356514, 0.75594783,\n",
              "        0.86607684, 0.21039124, 0.09985509, 0.52205384, 0.96582332],\n",
              "       [0.97326874, 0.08894109, 0.12532872, 0.99008944, 0.51094548,\n",
              "        0.60045157, 0.86550744, 0.44496328, 0.77154826, 0.14832081],\n",
              "       [0.56194147, 0.81169414, 0.87293939, 0.1086014 , 0.60671845,\n",
              "        0.35490049, 0.30892701, 0.58625892, 0.05173613, 0.22503553]])"
            ]
          },
          "metadata": {},
          "execution_count": 18
        }
      ],
      "source": [
        "np.random.rand(10,10)"
      ]
    },
    {
      "cell_type": "markdown",
      "metadata": {
        "id": "4iKeOe7iFVHh"
      },
      "source": [
        "### randn\n",
        "\n",
        "Return a sample (or samples) from the \"standard normal\" distribution. Unlike rand which is uniform:"
      ]
    },
    {
      "cell_type": "code",
      "execution_count": 19,
      "metadata": {
        "id": "8o8x80AGFVHh",
        "outputId": "5e37b9c1-d290-4d72-b66d-58ddd85c971f",
        "colab": {
          "base_uri": "https://localhost:8080/"
        }
      },
      "outputs": [
        {
          "output_type": "execute_result",
          "data": {
            "text/plain": [
              "array([-0.64405797, -1.11309787,  0.31008532, -1.39588311, -0.24407832,\n",
              "        1.29715522, -0.70700565, -0.45492665,  0.11833823, -0.29728774,\n",
              "       -0.29219403,  1.75094997,  1.32315742,  1.46065265,  2.2047139 ,\n",
              "       -0.12882701, -0.49263556, -1.88266142,  1.60916894, -2.63060978])"
            ]
          },
          "metadata": {},
          "execution_count": 19
        }
      ],
      "source": [
        "np.random.randn(20)"
      ]
    },
    {
      "cell_type": "code",
      "execution_count": 20,
      "metadata": {
        "id": "lsBFSlpDFVHh",
        "outputId": "6c52995d-0369-4d17-a2c0-e745b7c2ec46",
        "colab": {
          "base_uri": "https://localhost:8080/"
        }
      },
      "outputs": [
        {
          "output_type": "execute_result",
          "data": {
            "text/plain": [
              "array([[ 0.97974927, -0.98940114,  0.66538135, -1.71080581, -1.76615829],\n",
              "       [ 0.1111574 ,  0.37836052, -0.36391113,  0.5433075 ,  1.63392241],\n",
              "       [-0.54304555,  0.58735862, -0.87810848,  1.68430036, -0.68154103],\n",
              "       [-0.42036732, -0.83393315,  0.3413233 , -1.42083476,  0.79318606],\n",
              "       [ 0.84751136, -1.36000301,  0.95446584, -0.95961573,  1.32531812]])"
            ]
          },
          "metadata": {},
          "execution_count": 20
        }
      ],
      "source": [
        "np.random.randn(5,5)"
      ]
    },
    {
      "cell_type": "markdown",
      "metadata": {
        "id": "BsIg0NHVFVHh"
      },
      "source": [
        "### randint\n",
        "Return random integers from `low` (inclusive) to `high` (exclusive)."
      ]
    },
    {
      "cell_type": "code",
      "execution_count": 21,
      "metadata": {
        "id": "Em4Z2I-XFVHh",
        "outputId": "7c027c62-b9f6-4c08-fa87-308c880da953",
        "colab": {
          "base_uri": "https://localhost:8080/"
        }
      },
      "outputs": [
        {
          "output_type": "execute_result",
          "data": {
            "text/plain": [
              "22"
            ]
          },
          "metadata": {},
          "execution_count": 21
        }
      ],
      "source": [
        "np.random.randint(1,500)"
      ]
    },
    {
      "cell_type": "code",
      "execution_count": 22,
      "metadata": {
        "id": "j3DoOvRnFVHh",
        "outputId": "c9bc5ed0-9335-4ea5-ce5e-6314110601a5",
        "colab": {
          "base_uri": "https://localhost:8080/"
        }
      },
      "outputs": [
        {
          "output_type": "execute_result",
          "data": {
            "text/plain": [
              "array([941, 796, 747,  66, 397, 378, 823, 693, 460, 431,  60, 456,  59,\n",
              "       719, 484, 987, 152,  99, 796, 121, 253, 722,  92, 257, 243, 709,\n",
              "       750, 531, 575, 170, 978, 280, 993, 531, 917, 970, 633, 531, 781,\n",
              "       756, 121, 336, 265, 390, 403, 660, 527, 469, 392, 796, 669, 248,\n",
              "        76, 303, 684,   6, 800, 362, 594, 273, 597, 472, 175, 435, 940,\n",
              "       406, 732, 565, 543, 974, 319, 556, 897, 568, 272, 359, 720, 350,\n",
              "       739,  80, 158,  82, 970, 791, 745, 787, 986, 251, 209, 968, 798,\n",
              "       704, 518, 749, 663, 606, 795, 928, 574,  36])"
            ]
          },
          "metadata": {},
          "execution_count": 22
        }
      ],
      "source": [
        "np.random.randint(1,1000,100)"
      ]
    },
    {
      "cell_type": "markdown",
      "metadata": {
        "id": "_-fjnvARFVHh"
      },
      "source": [
        "## Array Attributes and Methods\n",
        "\n",
        "Let's discuss some useful attributes and methods or an array:"
      ]
    },
    {
      "cell_type": "code",
      "execution_count": 23,
      "metadata": {
        "collapsed": true,
        "id": "6rYAt1KqFVHi"
      },
      "outputs": [],
      "source": [
        "arr = np.arange(50)\n",
        "ranarr = np.random.randint(0,500,10)"
      ]
    },
    {
      "cell_type": "code",
      "execution_count": 24,
      "metadata": {
        "id": "Dw4K2YdTFVHi",
        "outputId": "ad8096ca-bb73-4d5e-cfa6-0a18c6c6700e",
        "colab": {
          "base_uri": "https://localhost:8080/"
        }
      },
      "outputs": [
        {
          "output_type": "execute_result",
          "data": {
            "text/plain": [
              "array([ 0,  1,  2,  3,  4,  5,  6,  7,  8,  9, 10, 11, 12, 13, 14, 15, 16,\n",
              "       17, 18, 19, 20, 21, 22, 23, 24, 25, 26, 27, 28, 29, 30, 31, 32, 33,\n",
              "       34, 35, 36, 37, 38, 39, 40, 41, 42, 43, 44, 45, 46, 47, 48, 49])"
            ]
          },
          "metadata": {},
          "execution_count": 24
        }
      ],
      "source": [
        "arr"
      ]
    },
    {
      "cell_type": "code",
      "execution_count": 25,
      "metadata": {
        "id": "lg3ayWjiFVHi",
        "outputId": "ec92404c-c5cb-4570-932d-54e7e14a9f00",
        "colab": {
          "base_uri": "https://localhost:8080/"
        }
      },
      "outputs": [
        {
          "output_type": "execute_result",
          "data": {
            "text/plain": [
              "array([493,  12, 341, 490, 395, 479, 286, 215, 172, 340])"
            ]
          },
          "metadata": {},
          "execution_count": 25
        }
      ],
      "source": [
        "ranarr"
      ]
    },
    {
      "cell_type": "markdown",
      "metadata": {
        "id": "lbyTZTn2FVHi"
      },
      "source": [
        "## Reshape\n",
        "Returns an array containing the same data with a new shape."
      ]
    },
    {
      "cell_type": "code",
      "execution_count": 26,
      "metadata": {
        "id": "EWdPoCE1FVHi",
        "outputId": "8c960688-e7dd-46f5-c89f-6c61430e3de9",
        "colab": {
          "base_uri": "https://localhost:8080/"
        }
      },
      "outputs": [
        {
          "output_type": "execute_result",
          "data": {
            "text/plain": [
              "array([[ 0,  1,  2,  3,  4],\n",
              "       [ 5,  6,  7,  8,  9],\n",
              "       [10, 11, 12, 13, 14],\n",
              "       [15, 16, 17, 18, 19],\n",
              "       [20, 21, 22, 23, 24],\n",
              "       [25, 26, 27, 28, 29],\n",
              "       [30, 31, 32, 33, 34],\n",
              "       [35, 36, 37, 38, 39],\n",
              "       [40, 41, 42, 43, 44],\n",
              "       [45, 46, 47, 48, 49]])"
            ]
          },
          "metadata": {},
          "execution_count": 26
        }
      ],
      "source": [
        "arr.reshape(10,5)"
      ]
    },
    {
      "cell_type": "markdown",
      "metadata": {
        "id": "Zuu2GHCXFVHi"
      },
      "source": [
        "### max,min,argmax,argmin\n",
        "\n",
        "These are useful methods for finding max or min values. Or to find their index locations using argmin or argmax"
      ]
    },
    {
      "cell_type": "code",
      "execution_count": 27,
      "metadata": {
        "id": "u4uCyUepFVHi",
        "outputId": "7ebc949f-f5b7-471a-f3dc-2c81713ec82d",
        "colab": {
          "base_uri": "https://localhost:8080/"
        }
      },
      "outputs": [
        {
          "output_type": "execute_result",
          "data": {
            "text/plain": [
              "array([493,  12, 341, 490, 395, 479, 286, 215, 172, 340])"
            ]
          },
          "metadata": {},
          "execution_count": 27
        }
      ],
      "source": [
        "ranarr"
      ]
    },
    {
      "cell_type": "code",
      "execution_count": 28,
      "metadata": {
        "id": "zOAw85YqFVHi",
        "outputId": "e93ad4e5-1249-436c-e9f2-bc382f4399d6",
        "colab": {
          "base_uri": "https://localhost:8080/"
        }
      },
      "outputs": [
        {
          "output_type": "execute_result",
          "data": {
            "text/plain": [
              "493"
            ]
          },
          "metadata": {},
          "execution_count": 28
        }
      ],
      "source": [
        "ranarr.max()"
      ]
    },
    {
      "cell_type": "code",
      "execution_count": 29,
      "metadata": {
        "id": "RLD7I5_6FVHi",
        "outputId": "68817409-c380-4fd8-93c3-94705c728cbe",
        "colab": {
          "base_uri": "https://localhost:8080/"
        }
      },
      "outputs": [
        {
          "output_type": "execute_result",
          "data": {
            "text/plain": [
              "0"
            ]
          },
          "metadata": {},
          "execution_count": 29
        }
      ],
      "source": [
        "ranarr.argmax()"
      ]
    },
    {
      "cell_type": "code",
      "execution_count": 30,
      "metadata": {
        "id": "8OGIxisKFVHi",
        "outputId": "cf252c41-946b-4c0b-f1ba-0a1d426da6fc",
        "colab": {
          "base_uri": "https://localhost:8080/"
        }
      },
      "outputs": [
        {
          "output_type": "execute_result",
          "data": {
            "text/plain": [
              "12"
            ]
          },
          "metadata": {},
          "execution_count": 30
        }
      ],
      "source": [
        "ranarr.min()"
      ]
    },
    {
      "cell_type": "code",
      "execution_count": 31,
      "metadata": {
        "id": "2dE3OzWNFVHi",
        "outputId": "0b6fc158-7ef3-45c0-efbb-3e9660747423",
        "colab": {
          "base_uri": "https://localhost:8080/"
        }
      },
      "outputs": [
        {
          "output_type": "execute_result",
          "data": {
            "text/plain": [
              "1"
            ]
          },
          "metadata": {},
          "execution_count": 31
        }
      ],
      "source": [
        "ranarr.argmin()"
      ]
    },
    {
      "cell_type": "markdown",
      "metadata": {
        "id": "YKmoyIxQFVHj"
      },
      "source": [
        "## Shape\n",
        "\n",
        "Shape is an attribute that arrays have (not a method):"
      ]
    },
    {
      "cell_type": "code",
      "execution_count": 32,
      "metadata": {
        "id": "2jFiNYPjFVHj",
        "outputId": "bdbec359-4a3e-4738-90bd-316955152aa3",
        "colab": {
          "base_uri": "https://localhost:8080/"
        }
      },
      "outputs": [
        {
          "output_type": "execute_result",
          "data": {
            "text/plain": [
              "(50,)"
            ]
          },
          "metadata": {},
          "execution_count": 32
        }
      ],
      "source": [
        "# Vector\n",
        "arr.shape"
      ]
    },
    {
      "cell_type": "code",
      "execution_count": 33,
      "metadata": {
        "id": "A89cGrN7FVHj",
        "outputId": "142d5ce5-8191-466c-842f-20d7f1fddd89",
        "colab": {
          "base_uri": "https://localhost:8080/"
        }
      },
      "outputs": [
        {
          "output_type": "execute_result",
          "data": {
            "text/plain": [
              "array([[ 0,  1,  2,  3,  4,  5,  6,  7,  8,  9, 10, 11, 12, 13, 14, 15,\n",
              "        16, 17, 18, 19, 20, 21, 22, 23, 24],\n",
              "       [25, 26, 27, 28, 29, 30, 31, 32, 33, 34, 35, 36, 37, 38, 39, 40,\n",
              "        41, 42, 43, 44, 45, 46, 47, 48, 49]])"
            ]
          },
          "metadata": {},
          "execution_count": 33
        }
      ],
      "source": [
        "# Notice the two sets of brackets\n",
        "arr.reshape(2,25)"
      ]
    },
    {
      "cell_type": "code",
      "execution_count": 34,
      "metadata": {
        "id": "XL4aOt7iFVHj",
        "outputId": "ec738e70-170d-43e7-d34d-65bb7eb3c262",
        "colab": {
          "base_uri": "https://localhost:8080/"
        }
      },
      "outputs": [
        {
          "output_type": "execute_result",
          "data": {
            "text/plain": [
              "(2, 25)"
            ]
          },
          "metadata": {},
          "execution_count": 34
        }
      ],
      "source": [
        "arr.reshape(2,25).shape"
      ]
    },
    {
      "cell_type": "code",
      "execution_count": 35,
      "metadata": {
        "id": "s6vR9mtBFVHj",
        "outputId": "34fe1a30-25c2-42c9-8bef-2a4b6c4f3715",
        "colab": {
          "base_uri": "https://localhost:8080/"
        }
      },
      "outputs": [
        {
          "output_type": "execute_result",
          "data": {
            "text/plain": [
              "array([[ 0,  1],\n",
              "       [ 2,  3],\n",
              "       [ 4,  5],\n",
              "       [ 6,  7],\n",
              "       [ 8,  9],\n",
              "       [10, 11],\n",
              "       [12, 13],\n",
              "       [14, 15],\n",
              "       [16, 17],\n",
              "       [18, 19],\n",
              "       [20, 21],\n",
              "       [22, 23],\n",
              "       [24, 25],\n",
              "       [26, 27],\n",
              "       [28, 29],\n",
              "       [30, 31],\n",
              "       [32, 33],\n",
              "       [34, 35],\n",
              "       [36, 37],\n",
              "       [38, 39],\n",
              "       [40, 41],\n",
              "       [42, 43],\n",
              "       [44, 45],\n",
              "       [46, 47],\n",
              "       [48, 49]])"
            ]
          },
          "metadata": {},
          "execution_count": 35
        }
      ],
      "source": [
        "arr.reshape(25,2)"
      ]
    },
    {
      "cell_type": "code",
      "execution_count": 36,
      "metadata": {
        "id": "oh4xppGrFVHj",
        "outputId": "71d0d2e5-7371-454a-cd67-e0718077ec1f",
        "colab": {
          "base_uri": "https://localhost:8080/"
        }
      },
      "outputs": [
        {
          "output_type": "execute_result",
          "data": {
            "text/plain": [
              "(25, 2)"
            ]
          },
          "metadata": {},
          "execution_count": 36
        }
      ],
      "source": [
        "arr.reshape(25,2).shape"
      ]
    },
    {
      "cell_type": "markdown",
      "metadata": {
        "id": "xiD7Ct6JFVHj"
      },
      "source": [
        "### dtype\n",
        "\n",
        "You can also grab the data type of the object in the array:"
      ]
    },
    {
      "cell_type": "code",
      "execution_count": 37,
      "metadata": {
        "id": "o5Mu6tzZFVHj",
        "outputId": "7fde83bd-936f-4074-f10a-7c2a65bdec4f",
        "colab": {
          "base_uri": "https://localhost:8080/"
        }
      },
      "outputs": [
        {
          "output_type": "execute_result",
          "data": {
            "text/plain": [
              "dtype('int64')"
            ]
          },
          "metadata": {},
          "execution_count": 37
        }
      ],
      "source": [
        "arr.dtype"
      ]
    },
    {
      "cell_type": "markdown",
      "source": [
        "## Indexing and Selection"
      ],
      "metadata": {
        "id": "TV0dl9SkhqUx"
      }
    },
    {
      "cell_type": "code",
      "source": [
        "#Creating sample array\n",
        "arr = np.arange(0, 15)"
      ],
      "metadata": {
        "id": "tG7RD0n6h3Sf"
      },
      "execution_count": 38,
      "outputs": []
    },
    {
      "cell_type": "code",
      "source": [
        "#show\n",
        "arr"
      ],
      "metadata": {
        "colab": {
          "base_uri": "https://localhost:8080/"
        },
        "id": "2LT49zn5h_BL",
        "outputId": "6a2a8e6f-d2be-4740-d735-307c09cfdcab"
      },
      "execution_count": 39,
      "outputs": [
        {
          "output_type": "execute_result",
          "data": {
            "text/plain": [
              "array([ 0,  1,  2,  3,  4,  5,  6,  7,  8,  9, 10, 11, 12, 13, 14])"
            ]
          },
          "metadata": {},
          "execution_count": 39
        }
      ]
    },
    {
      "cell_type": "markdown",
      "source": [
        "## Bracket Indexing and Selection\n",
        "##### The simplest way to pick one or some elements of an array looks very similar to python lists:\n"
      ],
      "metadata": {
        "id": "sylPVw8fhwUX"
      }
    },
    {
      "cell_type": "code",
      "source": [
        "#Get a value at an index\n",
        "arr[8]"
      ],
      "metadata": {
        "colab": {
          "base_uri": "https://localhost:8080/"
        },
        "id": "-VY9gVjFiL0b",
        "outputId": "b005a9d4-e874-4cb0-c6b2-2c1b4944625a"
      },
      "execution_count": 40,
      "outputs": [
        {
          "output_type": "execute_result",
          "data": {
            "text/plain": [
              "8"
            ]
          },
          "metadata": {},
          "execution_count": 40
        }
      ]
    },
    {
      "cell_type": "code",
      "source": [
        "#Get values in in a range\n",
        "arr[0:5]"
      ],
      "metadata": {
        "colab": {
          "base_uri": "https://localhost:8080/"
        },
        "id": "y7hwN94UiLTU",
        "outputId": "4be73e6f-9a8a-4e0d-d1e1-f0438a32673e"
      },
      "execution_count": 41,
      "outputs": [
        {
          "output_type": "execute_result",
          "data": {
            "text/plain": [
              "array([0, 1, 2, 3, 4])"
            ]
          },
          "metadata": {},
          "execution_count": 41
        }
      ]
    },
    {
      "cell_type": "markdown",
      "source": [
        "## Broadcasting\n",
        "#### Numpy arrays differ from a normal Python list because of their ability to broadcast:\n",
        "Broadcasting\n",
        "Numpy arrays differ from a normal Python list because of their ability to broadcast:\n",
        "describes how NumPy treats arrays with different shapes during arithmetic operations. Subject to certain constraints, the smaller array is “broadcast” across the larger array so that they have compatible shapes. Broadcasting provides a means of vectorizing array operations so that looping occurs in C instead of Python. It does this without making needless copies of data and usually leads to efficient algorithm implementations. There are, however, cases where broadcasting is a bad idea because it leads to inefficient use of memory that slows computation.\n"
      ],
      "metadata": {
        "id": "qB5gDL78hz_W"
      }
    },
    {
      "cell_type": "code",
      "source": [
        "#Setting a value with index with index range (Broadcasting)\n",
        "arr[0:5] = 100\n",
        "\n",
        "#Show\n",
        "arr"
      ],
      "metadata": {
        "colab": {
          "base_uri": "https://localhost:8080/"
        },
        "id": "Gg4htGVfibBQ",
        "outputId": "c672667f-8c14-4aab-86e4-b5658156018a"
      },
      "execution_count": 42,
      "outputs": [
        {
          "output_type": "execute_result",
          "data": {
            "text/plain": [
              "array([100, 100, 100, 100, 100,   5,   6,   7,   8,   9,  10,  11,  12,\n",
              "        13,  14])"
            ]
          },
          "metadata": {},
          "execution_count": 42
        }
      ]
    },
    {
      "cell_type": "code",
      "execution_count": 43,
      "metadata": {
        "id": "U8FU8nTZFVHj",
        "colab": {
          "base_uri": "https://localhost:8080/"
        },
        "outputId": "0e1d9e95-d10c-47f6-a9a7-746a5ae9dc69"
      },
      "outputs": [
        {
          "output_type": "execute_result",
          "data": {
            "text/plain": [
              "array([ 0,  1,  2,  3,  4,  5,  6,  7,  8,  9, 10, 11, 12, 13, 14, 15, 16,\n",
              "       17, 18, 19])"
            ]
          },
          "metadata": {},
          "execution_count": 43
        }
      ],
      "source": [
        "# Reset array, we'll see why I had to reset in a moment\n",
        "arr = np.arange(0, 20)\n",
        "\n",
        "#show\n",
        "arr"
      ]
    },
    {
      "cell_type": "code",
      "source": [
        "#Important notes on Slices\n",
        "slice_of_arr = arr[0:8]\n",
        "\n",
        "#show\n",
        "slice_of_arr"
      ],
      "metadata": {
        "colab": {
          "base_uri": "https://localhost:8080/"
        },
        "id": "lgJixgzyi0cn",
        "outputId": "c29d42ce-1ad4-4cbd-df13-421cc7b92a20"
      },
      "execution_count": 44,
      "outputs": [
        {
          "output_type": "execute_result",
          "data": {
            "text/plain": [
              "array([0, 1, 2, 3, 4, 5, 6, 7])"
            ]
          },
          "metadata": {},
          "execution_count": 44
        }
      ]
    },
    {
      "cell_type": "code",
      "source": [
        "#change slice\n",
        "slice_of_arr[:] = 99\n",
        "\n",
        "#Show slice again\n",
        "slice_of_arr"
      ],
      "metadata": {
        "colab": {
          "base_uri": "https://localhost:8080/"
        },
        "id": "iPAYjcUGomW3",
        "outputId": "126bb182-dd51-4913-fbdd-93f73a691383"
      },
      "execution_count": 45,
      "outputs": [
        {
          "output_type": "execute_result",
          "data": {
            "text/plain": [
              "array([99, 99, 99, 99, 99, 99, 99, 99])"
            ]
          },
          "metadata": {},
          "execution_count": 45
        }
      ]
    },
    {
      "cell_type": "markdown",
      "source": [
        "Now note the changes also occur in our original array!"
      ],
      "metadata": {
        "id": "NhqoZt_ojkzC"
      }
    },
    {
      "cell_type": "code",
      "source": [
        "arr"
      ],
      "metadata": {
        "colab": {
          "base_uri": "https://localhost:8080/"
        },
        "id": "t0Fp7ZnCjkEC",
        "outputId": "aa85ccf5-d600-4456-ede3-76c8a82a19cb"
      },
      "execution_count": 46,
      "outputs": [
        {
          "output_type": "execute_result",
          "data": {
            "text/plain": [
              "array([99, 99, 99, 99, 99, 99, 99, 99,  8,  9, 10, 11, 12, 13, 14, 15, 16,\n",
              "       17, 18, 19])"
            ]
          },
          "metadata": {},
          "execution_count": 46
        }
      ]
    },
    {
      "cell_type": "markdown",
      "source": [
        "Data is not copied, it's view of the original array! This avoids memory problems!"
      ],
      "metadata": {
        "id": "UcK6bL6po_Ab"
      }
    },
    {
      "cell_type": "code",
      "source": [
        "# To get a copy, need to be explicit\n",
        "arr_copy = arr.copy()\n",
        "\n",
        "arr_copy"
      ],
      "metadata": {
        "colab": {
          "base_uri": "https://localhost:8080/"
        },
        "id": "CvQgXVVCpM6j",
        "outputId": "fa4c9e2a-9aa8-4641-b564-f72324882069"
      },
      "execution_count": 47,
      "outputs": [
        {
          "output_type": "execute_result",
          "data": {
            "text/plain": [
              "array([99, 99, 99, 99, 99, 99, 99, 99,  8,  9, 10, 11, 12, 13, 14, 15, 16,\n",
              "       17, 18, 19])"
            ]
          },
          "metadata": {},
          "execution_count": 47
        }
      ]
    },
    {
      "cell_type": "markdown",
      "source": [
        "## Indexing a 2D array (matrices)\n",
        "The general format is ` arr_2d [row][col]` or `arr_2d [row][col]`. I reccommend usually using a comma notation for clarity."
      ],
      "metadata": {
        "id": "HL4OLTAFj7u-"
      }
    },
    {
      "cell_type": "code",
      "source": [
        "arr_2d = np.array(([5, 10, 15], [20, 25, 30], [35, 40, 45]))\n",
        "\n",
        "# Show\n",
        "arr_2d"
      ],
      "metadata": {
        "colab": {
          "base_uri": "https://localhost:8080/"
        },
        "id": "sqfWPwGykBUT",
        "outputId": "18806e7c-8c92-42d7-ca5e-8390e2f8a6a0"
      },
      "execution_count": 48,
      "outputs": [
        {
          "output_type": "execute_result",
          "data": {
            "text/plain": [
              "array([[ 5, 10, 15],\n",
              "       [20, 25, 30],\n",
              "       [35, 40, 45]])"
            ]
          },
          "metadata": {},
          "execution_count": 48
        }
      ]
    },
    {
      "cell_type": "code",
      "source": [
        "# Indexing row\n",
        "arr_2d[1]"
      ],
      "metadata": {
        "colab": {
          "base_uri": "https://localhost:8080/"
        },
        "id": "0avfyZOtqtKa",
        "outputId": "cbb422f0-d760-4bc9-f7c6-d58bc2df774a"
      },
      "execution_count": 49,
      "outputs": [
        {
          "output_type": "execute_result",
          "data": {
            "text/plain": [
              "array([20, 25, 30])"
            ]
          },
          "metadata": {},
          "execution_count": 49
        }
      ]
    },
    {
      "cell_type": "code",
      "source": [
        "# Getting individual element value\n",
        "arr_2d[1][0]"
      ],
      "metadata": {
        "colab": {
          "base_uri": "https://localhost:8080/"
        },
        "id": "jgcKLBVIqtHo",
        "outputId": "3de6f3dd-552d-4eef-fba6-5df3d78c6f61"
      },
      "execution_count": 50,
      "outputs": [
        {
          "output_type": "execute_result",
          "data": {
            "text/plain": [
              "20"
            ]
          },
          "metadata": {},
          "execution_count": 50
        }
      ]
    },
    {
      "cell_type": "code",
      "source": [
        "arr_2d [1, 0]\n",
        "# you can also put in the same bracket, same result of 20"
      ],
      "metadata": {
        "colab": {
          "base_uri": "https://localhost:8080/"
        },
        "id": "2XmkK0_JqtE-",
        "outputId": "9745fce7-0fbc-4367-8520-1fc43b125d48"
      },
      "execution_count": 51,
      "outputs": [
        {
          "output_type": "execute_result",
          "data": {
            "text/plain": [
              "20"
            ]
          },
          "metadata": {},
          "execution_count": 51
        }
      ]
    },
    {
      "cell_type": "code",
      "source": [
        "# 2D array slicing\n",
        "\n",
        "# Shape (2, 2) from top right corner\n",
        "arr_2d[:2,1:]"
      ],
      "metadata": {
        "colab": {
          "base_uri": "https://localhost:8080/"
        },
        "id": "jtuHkzTIrSqL",
        "outputId": "a5b729ea-7d07-44f0-df4b-fff575633cbc"
      },
      "execution_count": 52,
      "outputs": [
        {
          "output_type": "execute_result",
          "data": {
            "text/plain": [
              "array([[10, 15],\n",
              "       [25, 30]])"
            ]
          },
          "metadata": {},
          "execution_count": 52
        }
      ]
    },
    {
      "cell_type": "code",
      "source": [
        "# Shape bottom row\n",
        "arr_2d[2]"
      ],
      "metadata": {
        "colab": {
          "base_uri": "https://localhost:8080/"
        },
        "id": "kBtLPX37rSm2",
        "outputId": "47b1157b-3367-445b-a6a7-cb211a1d779f"
      },
      "execution_count": 53,
      "outputs": [
        {
          "output_type": "execute_result",
          "data": {
            "text/plain": [
              "array([35, 40, 45])"
            ]
          },
          "metadata": {},
          "execution_count": 53
        }
      ]
    },
    {
      "cell_type": "code",
      "source": [
        "# Shape bottom row\n",
        "arr_2d[2,:]"
      ],
      "metadata": {
        "colab": {
          "base_uri": "https://localhost:8080/"
        },
        "id": "VjhcYQkErSMI",
        "outputId": "8bb289aa-428b-451c-f0c6-cad73b02bdc2"
      },
      "execution_count": 54,
      "outputs": [
        {
          "output_type": "execute_result",
          "data": {
            "text/plain": [
              "array([35, 40, 45])"
            ]
          },
          "metadata": {},
          "execution_count": 54
        }
      ]
    },
    {
      "cell_type": "markdown",
      "source": [
        "## Fancy Indexing\n",
        "\n",
        "Fancy indexing allows you to select entire rows or columns out of order,to show this, let's quickly build out a numPy array:"
      ],
      "metadata": {
        "id": "mVBzrUdMprr-"
      }
    },
    {
      "cell_type": "code",
      "source": [
        "# Set up matrix\n",
        "arr2d = np.zeros((10,10))\n",
        "arr2d"
      ],
      "metadata": {
        "colab": {
          "base_uri": "https://localhost:8080/"
        },
        "id": "qJcirliXpx26",
        "outputId": "20f655b8-6df8-494a-c473-5e59cea19beb"
      },
      "execution_count": 55,
      "outputs": [
        {
          "output_type": "execute_result",
          "data": {
            "text/plain": [
              "array([[0., 0., 0., 0., 0., 0., 0., 0., 0., 0.],\n",
              "       [0., 0., 0., 0., 0., 0., 0., 0., 0., 0.],\n",
              "       [0., 0., 0., 0., 0., 0., 0., 0., 0., 0.],\n",
              "       [0., 0., 0., 0., 0., 0., 0., 0., 0., 0.],\n",
              "       [0., 0., 0., 0., 0., 0., 0., 0., 0., 0.],\n",
              "       [0., 0., 0., 0., 0., 0., 0., 0., 0., 0.],\n",
              "       [0., 0., 0., 0., 0., 0., 0., 0., 0., 0.],\n",
              "       [0., 0., 0., 0., 0., 0., 0., 0., 0., 0.],\n",
              "       [0., 0., 0., 0., 0., 0., 0., 0., 0., 0.],\n",
              "       [0., 0., 0., 0., 0., 0., 0., 0., 0., 0.]])"
            ]
          },
          "metadata": {},
          "execution_count": 55
        }
      ]
    },
    {
      "cell_type": "code",
      "source": [
        "# Length of array\n",
        "arr_length = arr2d.shape[1]\n",
        "\n",
        "# Set up array\n",
        "\n",
        "for i in range(arr_length):\n",
        "    arr2d[i] = i\n",
        "\n",
        "arr2d"
      ],
      "metadata": {
        "colab": {
          "base_uri": "https://localhost:8080/"
        },
        "id": "bms_5723pxoZ",
        "outputId": "57896765-b3d4-4934-da16-1b1f0b23629b"
      },
      "execution_count": 56,
      "outputs": [
        {
          "output_type": "execute_result",
          "data": {
            "text/plain": [
              "array([[0., 0., 0., 0., 0., 0., 0., 0., 0., 0.],\n",
              "       [1., 1., 1., 1., 1., 1., 1., 1., 1., 1.],\n",
              "       [2., 2., 2., 2., 2., 2., 2., 2., 2., 2.],\n",
              "       [3., 3., 3., 3., 3., 3., 3., 3., 3., 3.],\n",
              "       [4., 4., 4., 4., 4., 4., 4., 4., 4., 4.],\n",
              "       [5., 5., 5., 5., 5., 5., 5., 5., 5., 5.],\n",
              "       [6., 6., 6., 6., 6., 6., 6., 6., 6., 6.],\n",
              "       [7., 7., 7., 7., 7., 7., 7., 7., 7., 7.],\n",
              "       [8., 8., 8., 8., 8., 8., 8., 8., 8., 8.],\n",
              "       [9., 9., 9., 9., 9., 9., 9., 9., 9., 9.]])"
            ]
          },
          "metadata": {},
          "execution_count": 56
        }
      ]
    },
    {
      "cell_type": "markdown",
      "source": [
        "Fancy indexing allows the following"
      ],
      "metadata": {
        "id": "4TQ38g7Fr1ZN"
      }
    },
    {
      "cell_type": "code",
      "source": [
        "arr2d[[2,4,6,8]]"
      ],
      "metadata": {
        "colab": {
          "base_uri": "https://localhost:8080/"
        },
        "id": "_EGKgc1zs9gA",
        "outputId": "7c135772-47bb-462f-90bd-bfbe9af289e8"
      },
      "execution_count": 57,
      "outputs": [
        {
          "output_type": "execute_result",
          "data": {
            "text/plain": [
              "array([[2., 2., 2., 2., 2., 2., 2., 2., 2., 2.],\n",
              "       [4., 4., 4., 4., 4., 4., 4., 4., 4., 4.],\n",
              "       [6., 6., 6., 6., 6., 6., 6., 6., 6., 6.],\n",
              "       [8., 8., 8., 8., 8., 8., 8., 8., 8., 8.]])"
            ]
          },
          "metadata": {},
          "execution_count": 57
        }
      ]
    },
    {
      "cell_type": "code",
      "source": [
        "#Allows in any order\n",
        "arr2d[[6,4,2,7]]"
      ],
      "metadata": {
        "colab": {
          "base_uri": "https://localhost:8080/"
        },
        "id": "HXXlMut7tGW5",
        "outputId": "f8407f4c-60a5-4824-c6c5-4b31a859528c"
      },
      "execution_count": 58,
      "outputs": [
        {
          "output_type": "execute_result",
          "data": {
            "text/plain": [
              "array([[6., 6., 6., 6., 6., 6., 6., 6., 6., 6.],\n",
              "       [4., 4., 4., 4., 4., 4., 4., 4., 4., 4.],\n",
              "       [2., 2., 2., 2., 2., 2., 2., 2., 2., 2.],\n",
              "       [7., 7., 7., 7., 7., 7., 7., 7., 7., 7.]])"
            ]
          },
          "metadata": {},
          "execution_count": 58
        }
      ]
    },
    {
      "cell_type": "markdown",
      "source": [
        "Data frame is table, Table is a Matrix, Matrix is a 2d array"
      ],
      "metadata": {
        "id": "WQChuJN3tiWn"
      }
    },
    {
      "cell_type": "markdown",
      "source": [
        "### More Indexing Help\n",
        "\n",
        "Indexing a 2d matrix can be a bit confusing at first, especially when you start to add in step size. Try google image searching NumPy indexing to fins useful images, like this one:\n"
      ],
      "metadata": {
        "id": "Ijk5jE4QpywR"
      }
    },
    {
      "cell_type": "markdown",
      "source": [
        "## Selection\n",
        "Let's briefly go over how to use brackets for selection based off of comparison operators.\n"
      ],
      "metadata": {
        "id": "XBijYEh_toJ6"
      }
    },
    {
      "cell_type": "code",
      "source": [
        "arr = np.arange(1,11)\n",
        "arr"
      ],
      "metadata": {
        "colab": {
          "base_uri": "https://localhost:8080/"
        },
        "id": "GR8JE_ewuU0Z",
        "outputId": "e65cb751-2cd2-442f-d1f3-a6ac644f2b81"
      },
      "execution_count": 59,
      "outputs": [
        {
          "output_type": "execute_result",
          "data": {
            "text/plain": [
              "array([ 1,  2,  3,  4,  5,  6,  7,  8,  9, 10])"
            ]
          },
          "metadata": {},
          "execution_count": 59
        }
      ]
    },
    {
      "cell_type": "code",
      "source": [
        "arr > 4"
      ],
      "metadata": {
        "colab": {
          "base_uri": "https://localhost:8080/"
        },
        "id": "hOQYkSuWu3kJ",
        "outputId": "e3b908b7-e240-4b86-f81a-712d7998fdd5"
      },
      "execution_count": 60,
      "outputs": [
        {
          "output_type": "execute_result",
          "data": {
            "text/plain": [
              "array([False, False, False, False,  True,  True,  True,  True,  True,\n",
              "        True])"
            ]
          },
          "metadata": {},
          "execution_count": 60
        }
      ]
    },
    {
      "cell_type": "code",
      "source": [
        "bool_arr = arr>4\n",
        "bool_arr"
      ],
      "metadata": {
        "id": "P72tf8T7u4l7",
        "colab": {
          "base_uri": "https://localhost:8080/"
        },
        "outputId": "c0591ac1-7190-4dc3-c6c1-8c8ddb5aeaa4"
      },
      "execution_count": 61,
      "outputs": [
        {
          "output_type": "execute_result",
          "data": {
            "text/plain": [
              "array([False, False, False, False,  True,  True,  True,  True,  True,\n",
              "        True])"
            ]
          },
          "metadata": {},
          "execution_count": 61
        }
      ]
    },
    {
      "cell_type": "code",
      "source": [
        "arr[bool_arr]\n",
        "# Bool array shows only true values because false values are 0,\n",
        "# True values only printed so 5,6,7,8,9,10\n",
        "#If you divide by 0, that is no good"
      ],
      "metadata": {
        "id": "r_BQ8hgFu3RM",
        "colab": {
          "base_uri": "https://localhost:8080/"
        },
        "outputId": "fdb1544f-cc35-42b8-d300-a084751bcffd"
      },
      "execution_count": 62,
      "outputs": [
        {
          "output_type": "execute_result",
          "data": {
            "text/plain": [
              "array([ 5,  6,  7,  8,  9, 10])"
            ]
          },
          "metadata": {},
          "execution_count": 62
        }
      ]
    },
    {
      "cell_type": "code",
      "source": [
        "arr[arr>2]"
      ],
      "metadata": {
        "id": "rS-mp7z_u2tn",
        "colab": {
          "base_uri": "https://localhost:8080/"
        },
        "outputId": "b1d30a2e-a7a9-46e1-a765-ce708b4963d8"
      },
      "execution_count": 63,
      "outputs": [
        {
          "output_type": "execute_result",
          "data": {
            "text/plain": [
              "array([ 3,  4,  5,  6,  7,  8,  9, 10])"
            ]
          },
          "metadata": {},
          "execution_count": 63
        }
      ]
    },
    {
      "cell_type": "code",
      "source": [
        "x = 2\n",
        "arr[arr > x]"
      ],
      "metadata": {
        "colab": {
          "base_uri": "https://localhost:8080/"
        },
        "id": "sEsKQbbGZX79",
        "outputId": "74e692ea-8b69-41ef-c254-dc0c22bbd93e"
      },
      "execution_count": 64,
      "outputs": [
        {
          "output_type": "execute_result",
          "data": {
            "text/plain": [
              "array([ 3,  4,  5,  6,  7,  8,  9, 10])"
            ]
          },
          "metadata": {},
          "execution_count": 64
        }
      ]
    },
    {
      "cell_type": "markdown",
      "source": [
        "# NumPy Operations"
      ],
      "metadata": {
        "id": "vbsXTYMuZdyt"
      }
    },
    {
      "cell_type": "markdown",
      "source": [
        "## Arithmetic\n",
        "You can perform array with array (also known as Matrix operations) arithmetic, or scalar with array arithmetic."
      ],
      "metadata": {
        "id": "5XDWiOqAZj2N"
      }
    },
    {
      "cell_type": "code",
      "source": [
        "arr = np.arange(0,100)\n",
        "arr\n",
        "# arange means array range"
      ],
      "metadata": {
        "colab": {
          "base_uri": "https://localhost:8080/"
        },
        "id": "R2WeNkq2Zo5G",
        "outputId": "c5b6c0d3-ef34-45f5-fe4a-7a462fc325d7"
      },
      "execution_count": 65,
      "outputs": [
        {
          "output_type": "execute_result",
          "data": {
            "text/plain": [
              "array([ 0,  1,  2,  3,  4,  5,  6,  7,  8,  9, 10, 11, 12, 13, 14, 15, 16,\n",
              "       17, 18, 19, 20, 21, 22, 23, 24, 25, 26, 27, 28, 29, 30, 31, 32, 33,\n",
              "       34, 35, 36, 37, 38, 39, 40, 41, 42, 43, 44, 45, 46, 47, 48, 49, 50,\n",
              "       51, 52, 53, 54, 55, 56, 57, 58, 59, 60, 61, 62, 63, 64, 65, 66, 67,\n",
              "       68, 69, 70, 71, 72, 73, 74, 75, 76, 77, 78, 79, 80, 81, 82, 83, 84,\n",
              "       85, 86, 87, 88, 89, 90, 91, 92, 93, 94, 95, 96, 97, 98, 99])"
            ]
          },
          "metadata": {},
          "execution_count": 65
        }
      ]
    },
    {
      "cell_type": "code",
      "source": [
        "arr + arr"
      ],
      "metadata": {
        "colab": {
          "base_uri": "https://localhost:8080/"
        },
        "id": "6AfrThWXaDWs",
        "outputId": "154d8c1f-b1ec-4106-83e7-60e3ec29945f"
      },
      "execution_count": 66,
      "outputs": [
        {
          "output_type": "execute_result",
          "data": {
            "text/plain": [
              "array([  0,   2,   4,   6,   8,  10,  12,  14,  16,  18,  20,  22,  24,\n",
              "        26,  28,  30,  32,  34,  36,  38,  40,  42,  44,  46,  48,  50,\n",
              "        52,  54,  56,  58,  60,  62,  64,  66,  68,  70,  72,  74,  76,\n",
              "        78,  80,  82,  84,  86,  88,  90,  92,  94,  96,  98, 100, 102,\n",
              "       104, 106, 108, 110, 112, 114, 116, 118, 120, 122, 124, 126, 128,\n",
              "       130, 132, 134, 136, 138, 140, 142, 144, 146, 148, 150, 152, 154,\n",
              "       156, 158, 160, 162, 164, 166, 168, 170, 172, 174, 176, 178, 180,\n",
              "       182, 184, 186, 188, 190, 192, 194, 196, 198])"
            ]
          },
          "metadata": {},
          "execution_count": 66
        }
      ]
    },
    {
      "cell_type": "code",
      "source": [
        "arr * arr"
      ],
      "metadata": {
        "colab": {
          "base_uri": "https://localhost:8080/"
        },
        "id": "3JtdbLxBaC-S",
        "outputId": "19f6548d-6460-4c82-e640-5b59d735ee44"
      },
      "execution_count": 67,
      "outputs": [
        {
          "output_type": "execute_result",
          "data": {
            "text/plain": [
              "array([   0,    1,    4,    9,   16,   25,   36,   49,   64,   81,  100,\n",
              "        121,  144,  169,  196,  225,  256,  289,  324,  361,  400,  441,\n",
              "        484,  529,  576,  625,  676,  729,  784,  841,  900,  961, 1024,\n",
              "       1089, 1156, 1225, 1296, 1369, 1444, 1521, 1600, 1681, 1764, 1849,\n",
              "       1936, 2025, 2116, 2209, 2304, 2401, 2500, 2601, 2704, 2809, 2916,\n",
              "       3025, 3136, 3249, 3364, 3481, 3600, 3721, 3844, 3969, 4096, 4225,\n",
              "       4356, 4489, 4624, 4761, 4900, 5041, 5184, 5329, 5476, 5625, 5776,\n",
              "       5929, 6084, 6241, 6400, 6561, 6724, 6889, 7056, 7225, 7396, 7569,\n",
              "       7744, 7921, 8100, 8281, 8464, 8649, 8836, 9025, 9216, 9409, 9604,\n",
              "       9801])"
            ]
          },
          "metadata": {},
          "execution_count": 67
        }
      ]
    },
    {
      "cell_type": "code",
      "source": [
        "arr - arr"
      ],
      "metadata": {
        "colab": {
          "base_uri": "https://localhost:8080/"
        },
        "id": "SD1Zojo8aC0W",
        "outputId": "b0470944-1df3-473c-ba4a-b840a1b3b3af"
      },
      "execution_count": 68,
      "outputs": [
        {
          "output_type": "execute_result",
          "data": {
            "text/plain": [
              "array([0, 0, 0, 0, 0, 0, 0, 0, 0, 0, 0, 0, 0, 0, 0, 0, 0, 0, 0, 0, 0, 0,\n",
              "       0, 0, 0, 0, 0, 0, 0, 0, 0, 0, 0, 0, 0, 0, 0, 0, 0, 0, 0, 0, 0, 0,\n",
              "       0, 0, 0, 0, 0, 0, 0, 0, 0, 0, 0, 0, 0, 0, 0, 0, 0, 0, 0, 0, 0, 0,\n",
              "       0, 0, 0, 0, 0, 0, 0, 0, 0, 0, 0, 0, 0, 0, 0, 0, 0, 0, 0, 0, 0, 0,\n",
              "       0, 0, 0, 0, 0, 0, 0, 0, 0, 0, 0, 0])"
            ]
          },
          "metadata": {},
          "execution_count": 68
        }
      ]
    },
    {
      "cell_type": "code",
      "source": [
        "# Warning on division by zero, but not an error!\n",
        "# Just replaced with non\n",
        "arr/arr"
      ],
      "metadata": {
        "colab": {
          "base_uri": "https://localhost:8080/"
        },
        "id": "Jpo7JWxraIVM",
        "outputId": "4308aec8-2181-465f-8279-cffc3bab0d86"
      },
      "execution_count": 69,
      "outputs": [
        {
          "output_type": "stream",
          "name": "stderr",
          "text": [
            "/usr/local/lib/python3.7/dist-packages/ipykernel_launcher.py:3: RuntimeWarning: invalid value encountered in true_divide\n",
            "  This is separate from the ipykernel package so we can avoid doing imports until\n"
          ]
        },
        {
          "output_type": "execute_result",
          "data": {
            "text/plain": [
              "array([nan,  1.,  1.,  1.,  1.,  1.,  1.,  1.,  1.,  1.,  1.,  1.,  1.,\n",
              "        1.,  1.,  1.,  1.,  1.,  1.,  1.,  1.,  1.,  1.,  1.,  1.,  1.,\n",
              "        1.,  1.,  1.,  1.,  1.,  1.,  1.,  1.,  1.,  1.,  1.,  1.,  1.,\n",
              "        1.,  1.,  1.,  1.,  1.,  1.,  1.,  1.,  1.,  1.,  1.,  1.,  1.,\n",
              "        1.,  1.,  1.,  1.,  1.,  1.,  1.,  1.,  1.,  1.,  1.,  1.,  1.,\n",
              "        1.,  1.,  1.,  1.,  1.,  1.,  1.,  1.,  1.,  1.,  1.,  1.,  1.,\n",
              "        1.,  1.,  1.,  1.,  1.,  1.,  1.,  1.,  1.,  1.,  1.,  1.,  1.,\n",
              "        1.,  1.,  1.,  1.,  1.,  1.,  1.,  1.,  1.])"
            ]
          },
          "metadata": {},
          "execution_count": 69
        }
      ]
    },
    {
      "cell_type": "code",
      "source": [
        "# Also warning, but not an error instead infiniti\n",
        "1/arr"
      ],
      "metadata": {
        "colab": {
          "base_uri": "https://localhost:8080/"
        },
        "id": "rBAObfMNaIRF",
        "outputId": "29d23c6c-d16f-421f-ee2c-4ab082b444d2"
      },
      "execution_count": 70,
      "outputs": [
        {
          "output_type": "stream",
          "name": "stderr",
          "text": [
            "/usr/local/lib/python3.7/dist-packages/ipykernel_launcher.py:1: RuntimeWarning: divide by zero encountered in true_divide\n",
            "  \"\"\"Entry point for launching an IPython kernel.\n"
          ]
        },
        {
          "output_type": "execute_result",
          "data": {
            "text/plain": [
              "array([       inf, 1.        , 0.5       , 0.33333333, 0.25      ,\n",
              "       0.2       , 0.16666667, 0.14285714, 0.125     , 0.11111111,\n",
              "       0.1       , 0.09090909, 0.08333333, 0.07692308, 0.07142857,\n",
              "       0.06666667, 0.0625    , 0.05882353, 0.05555556, 0.05263158,\n",
              "       0.05      , 0.04761905, 0.04545455, 0.04347826, 0.04166667,\n",
              "       0.04      , 0.03846154, 0.03703704, 0.03571429, 0.03448276,\n",
              "       0.03333333, 0.03225806, 0.03125   , 0.03030303, 0.02941176,\n",
              "       0.02857143, 0.02777778, 0.02702703, 0.02631579, 0.02564103,\n",
              "       0.025     , 0.02439024, 0.02380952, 0.02325581, 0.02272727,\n",
              "       0.02222222, 0.02173913, 0.0212766 , 0.02083333, 0.02040816,\n",
              "       0.02      , 0.01960784, 0.01923077, 0.01886792, 0.01851852,\n",
              "       0.01818182, 0.01785714, 0.01754386, 0.01724138, 0.01694915,\n",
              "       0.01666667, 0.01639344, 0.01612903, 0.01587302, 0.015625  ,\n",
              "       0.01538462, 0.01515152, 0.01492537, 0.01470588, 0.01449275,\n",
              "       0.01428571, 0.01408451, 0.01388889, 0.01369863, 0.01351351,\n",
              "       0.01333333, 0.01315789, 0.01298701, 0.01282051, 0.01265823,\n",
              "       0.0125    , 0.01234568, 0.01219512, 0.01204819, 0.01190476,\n",
              "       0.01176471, 0.01162791, 0.01149425, 0.01136364, 0.01123596,\n",
              "       0.01111111, 0.01098901, 0.01086957, 0.01075269, 0.0106383 ,\n",
              "       0.01052632, 0.01041667, 0.01030928, 0.01020408, 0.01010101])"
            ]
          },
          "metadata": {},
          "execution_count": 70
        }
      ]
    },
    {
      "cell_type": "code",
      "source": [
        "arr **3\n",
        "# power of 3"
      ],
      "metadata": {
        "colab": {
          "base_uri": "https://localhost:8080/"
        },
        "id": "O5b5JmJaakT4",
        "outputId": "60da7e4e-4e5b-4421-b701-99a8b03ae552"
      },
      "execution_count": 71,
      "outputs": [
        {
          "output_type": "execute_result",
          "data": {
            "text/plain": [
              "array([     0,      1,      8,     27,     64,    125,    216,    343,\n",
              "          512,    729,   1000,   1331,   1728,   2197,   2744,   3375,\n",
              "         4096,   4913,   5832,   6859,   8000,   9261,  10648,  12167,\n",
              "        13824,  15625,  17576,  19683,  21952,  24389,  27000,  29791,\n",
              "        32768,  35937,  39304,  42875,  46656,  50653,  54872,  59319,\n",
              "        64000,  68921,  74088,  79507,  85184,  91125,  97336, 103823,\n",
              "       110592, 117649, 125000, 132651, 140608, 148877, 157464, 166375,\n",
              "       175616, 185193, 195112, 205379, 216000, 226981, 238328, 250047,\n",
              "       262144, 274625, 287496, 300763, 314432, 328509, 343000, 357911,\n",
              "       373248, 389017, 405224, 421875, 438976, 456533, 474552, 493039,\n",
              "       512000, 531441, 551368, 571787, 592704, 614125, 636056, 658503,\n",
              "       681472, 704969, 729000, 753571, 778688, 804357, 830584, 857375,\n",
              "       884736, 912673, 941192, 970299])"
            ]
          },
          "metadata": {},
          "execution_count": 71
        }
      ]
    },
    {
      "cell_type": "markdown",
      "source": [
        "## Universal Array Functions\n",
        "NumPy comes with may [universal array functions](http://docs.scipy.org/doc/numpy/reference/ufuncs.html), which are just mathmatical operations you can use to perform the operation across the array. Some common ones: "
      ],
      "metadata": {
        "id": "SOWwx8DJa2qh"
      }
    },
    {
      "cell_type": "code",
      "source": [
        "# Taking square roots\n",
        "np.sqrt(arr)"
      ],
      "metadata": {
        "colab": {
          "base_uri": "https://localhost:8080/"
        },
        "id": "MmsTJxc9a2of",
        "outputId": "4a47166d-8b7b-45b6-eee6-22663cead189"
      },
      "execution_count": 72,
      "outputs": [
        {
          "output_type": "execute_result",
          "data": {
            "text/plain": [
              "array([0.        , 1.        , 1.41421356, 1.73205081, 2.        ,\n",
              "       2.23606798, 2.44948974, 2.64575131, 2.82842712, 3.        ,\n",
              "       3.16227766, 3.31662479, 3.46410162, 3.60555128, 3.74165739,\n",
              "       3.87298335, 4.        , 4.12310563, 4.24264069, 4.35889894,\n",
              "       4.47213595, 4.58257569, 4.69041576, 4.79583152, 4.89897949,\n",
              "       5.        , 5.09901951, 5.19615242, 5.29150262, 5.38516481,\n",
              "       5.47722558, 5.56776436, 5.65685425, 5.74456265, 5.83095189,\n",
              "       5.91607978, 6.        , 6.08276253, 6.164414  , 6.244998  ,\n",
              "       6.32455532, 6.40312424, 6.4807407 , 6.55743852, 6.63324958,\n",
              "       6.70820393, 6.78232998, 6.8556546 , 6.92820323, 7.        ,\n",
              "       7.07106781, 7.14142843, 7.21110255, 7.28010989, 7.34846923,\n",
              "       7.41619849, 7.48331477, 7.54983444, 7.61577311, 7.68114575,\n",
              "       7.74596669, 7.81024968, 7.87400787, 7.93725393, 8.        ,\n",
              "       8.06225775, 8.1240384 , 8.18535277, 8.24621125, 8.30662386,\n",
              "       8.36660027, 8.42614977, 8.48528137, 8.54400375, 8.60232527,\n",
              "       8.66025404, 8.71779789, 8.77496439, 8.83176087, 8.88819442,\n",
              "       8.94427191, 9.        , 9.05538514, 9.11043358, 9.16515139,\n",
              "       9.21954446, 9.2736185 , 9.32737905, 9.38083152, 9.43398113,\n",
              "       9.48683298, 9.53939201, 9.59166305, 9.64365076, 9.69535971,\n",
              "       9.74679434, 9.79795897, 9.8488578 , 9.89949494, 9.94987437])"
            ]
          },
          "metadata": {},
          "execution_count": 72
        }
      ]
    },
    {
      "cell_type": "code",
      "source": [
        "# Calculating exponential (e^)\n",
        "np.exp(arr)"
      ],
      "metadata": {
        "colab": {
          "base_uri": "https://localhost:8080/"
        },
        "id": "BRCJksr-a2kn",
        "outputId": "e1ea3a48-07a9-41b6-bb16-79954f7173b4"
      },
      "execution_count": 73,
      "outputs": [
        {
          "output_type": "execute_result",
          "data": {
            "text/plain": [
              "array([1.00000000e+00, 2.71828183e+00, 7.38905610e+00, 2.00855369e+01,\n",
              "       5.45981500e+01, 1.48413159e+02, 4.03428793e+02, 1.09663316e+03,\n",
              "       2.98095799e+03, 8.10308393e+03, 2.20264658e+04, 5.98741417e+04,\n",
              "       1.62754791e+05, 4.42413392e+05, 1.20260428e+06, 3.26901737e+06,\n",
              "       8.88611052e+06, 2.41549528e+07, 6.56599691e+07, 1.78482301e+08,\n",
              "       4.85165195e+08, 1.31881573e+09, 3.58491285e+09, 9.74480345e+09,\n",
              "       2.64891221e+10, 7.20048993e+10, 1.95729609e+11, 5.32048241e+11,\n",
              "       1.44625706e+12, 3.93133430e+12, 1.06864746e+13, 2.90488497e+13,\n",
              "       7.89629602e+13, 2.14643580e+14, 5.83461743e+14, 1.58601345e+15,\n",
              "       4.31123155e+15, 1.17191424e+16, 3.18559318e+16, 8.65934004e+16,\n",
              "       2.35385267e+17, 6.39843494e+17, 1.73927494e+18, 4.72783947e+18,\n",
              "       1.28516001e+19, 3.49342711e+19, 9.49611942e+19, 2.58131289e+20,\n",
              "       7.01673591e+20, 1.90734657e+21, 5.18470553e+21, 1.40934908e+22,\n",
              "       3.83100800e+22, 1.04137594e+23, 2.83075330e+23, 7.69478527e+23,\n",
              "       2.09165950e+24, 5.68572000e+24, 1.54553894e+25, 4.20121040e+25,\n",
              "       1.14200739e+26, 3.10429794e+26, 8.43835667e+26, 2.29378316e+27,\n",
              "       6.23514908e+27, 1.69488924e+28, 4.60718663e+28, 1.25236317e+29,\n",
              "       3.40427605e+29, 9.25378173e+29, 2.51543867e+30, 6.83767123e+30,\n",
              "       1.85867175e+31, 5.05239363e+31, 1.37338298e+32, 3.73324200e+32,\n",
              "       1.01480039e+33, 2.75851345e+33, 7.49841700e+33, 2.03828107e+34,\n",
              "       5.54062238e+34, 1.50609731e+35, 4.09399696e+35, 1.11286375e+36,\n",
              "       3.02507732e+36, 8.22301271e+36, 2.23524660e+37, 6.07603023e+37,\n",
              "       1.65163625e+38, 4.48961282e+38, 1.22040329e+39, 3.31740010e+39,\n",
              "       9.01762841e+39, 2.45124554e+40, 6.66317622e+40, 1.81123908e+41,\n",
              "       4.92345829e+41, 1.33833472e+42, 3.63797095e+42, 9.88903032e+42])"
            ]
          },
          "metadata": {},
          "execution_count": 73
        }
      ]
    },
    {
      "cell_type": "code",
      "source": [
        "np.max(arr)\n",
        "# Same as arr.max()"
      ],
      "metadata": {
        "colab": {
          "base_uri": "https://localhost:8080/"
        },
        "id": "zgmap9sBb3V7",
        "outputId": "09b3c74b-ba58-4ef0-d060-7b28aec6034b"
      },
      "execution_count": 74,
      "outputs": [
        {
          "output_type": "execute_result",
          "data": {
            "text/plain": [
              "99"
            ]
          },
          "metadata": {},
          "execution_count": 74
        }
      ]
    },
    {
      "cell_type": "code",
      "source": [
        "np.sin(arr)"
      ],
      "metadata": {
        "colab": {
          "base_uri": "https://localhost:8080/"
        },
        "id": "bPhHS3a0b3Sc",
        "outputId": "e2b53ab6-d0ee-46d2-fe66-020a59a23a7c"
      },
      "execution_count": 75,
      "outputs": [
        {
          "output_type": "execute_result",
          "data": {
            "text/plain": [
              "array([ 0.        ,  0.84147098,  0.90929743,  0.14112001, -0.7568025 ,\n",
              "       -0.95892427, -0.2794155 ,  0.6569866 ,  0.98935825,  0.41211849,\n",
              "       -0.54402111, -0.99999021, -0.53657292,  0.42016704,  0.99060736,\n",
              "        0.65028784, -0.28790332, -0.96139749, -0.75098725,  0.14987721,\n",
              "        0.91294525,  0.83665564, -0.00885131, -0.8462204 , -0.90557836,\n",
              "       -0.13235175,  0.76255845,  0.95637593,  0.27090579, -0.66363388,\n",
              "       -0.98803162, -0.40403765,  0.55142668,  0.99991186,  0.52908269,\n",
              "       -0.42818267, -0.99177885, -0.64353813,  0.29636858,  0.96379539,\n",
              "        0.74511316, -0.15862267, -0.91652155, -0.83177474,  0.01770193,\n",
              "        0.85090352,  0.90178835,  0.12357312, -0.76825466, -0.95375265,\n",
              "       -0.26237485,  0.67022918,  0.98662759,  0.39592515, -0.55878905,\n",
              "       -0.99975517, -0.521551  ,  0.43616476,  0.99287265,  0.63673801,\n",
              "       -0.30481062, -0.96611777, -0.7391807 ,  0.1673557 ,  0.92002604,\n",
              "        0.82682868, -0.02655115, -0.85551998, -0.89792768, -0.11478481,\n",
              "        0.77389068,  0.95105465,  0.25382336, -0.67677196, -0.98514626,\n",
              "       -0.38778164,  0.56610764,  0.99952016,  0.51397846, -0.44411267,\n",
              "       -0.99388865, -0.62988799,  0.31322878,  0.96836446,  0.73319032,\n",
              "       -0.17607562, -0.92345845, -0.82181784,  0.0353983 ,  0.86006941,\n",
              "        0.89399666,  0.10598751, -0.77946607, -0.94828214, -0.24525199,\n",
              "        0.68326171,  0.98358775,  0.37960774, -0.57338187, -0.99920683])"
            ]
          },
          "metadata": {},
          "execution_count": 75
        }
      ]
    },
    {
      "cell_type": "code",
      "source": [
        "np.log(arr)"
      ],
      "metadata": {
        "colab": {
          "base_uri": "https://localhost:8080/"
        },
        "id": "cJ-aeUSrcA1b",
        "outputId": "bf8a9147-a3af-4b6e-c0de-043120416872"
      },
      "execution_count": 76,
      "outputs": [
        {
          "output_type": "stream",
          "name": "stderr",
          "text": [
            "/usr/local/lib/python3.7/dist-packages/ipykernel_launcher.py:1: RuntimeWarning: divide by zero encountered in log\n",
            "  \"\"\"Entry point for launching an IPython kernel.\n"
          ]
        },
        {
          "output_type": "execute_result",
          "data": {
            "text/plain": [
              "array([      -inf, 0.        , 0.69314718, 1.09861229, 1.38629436,\n",
              "       1.60943791, 1.79175947, 1.94591015, 2.07944154, 2.19722458,\n",
              "       2.30258509, 2.39789527, 2.48490665, 2.56494936, 2.63905733,\n",
              "       2.7080502 , 2.77258872, 2.83321334, 2.89037176, 2.94443898,\n",
              "       2.99573227, 3.04452244, 3.09104245, 3.13549422, 3.17805383,\n",
              "       3.21887582, 3.25809654, 3.29583687, 3.33220451, 3.36729583,\n",
              "       3.40119738, 3.4339872 , 3.4657359 , 3.49650756, 3.52636052,\n",
              "       3.55534806, 3.58351894, 3.61091791, 3.63758616, 3.66356165,\n",
              "       3.68887945, 3.71357207, 3.73766962, 3.76120012, 3.78418963,\n",
              "       3.80666249, 3.8286414 , 3.8501476 , 3.87120101, 3.8918203 ,\n",
              "       3.91202301, 3.93182563, 3.95124372, 3.97029191, 3.98898405,\n",
              "       4.00733319, 4.02535169, 4.04305127, 4.06044301, 4.07753744,\n",
              "       4.09434456, 4.11087386, 4.12713439, 4.14313473, 4.15888308,\n",
              "       4.17438727, 4.18965474, 4.20469262, 4.21950771, 4.2341065 ,\n",
              "       4.24849524, 4.26267988, 4.27666612, 4.29045944, 4.30406509,\n",
              "       4.31748811, 4.33073334, 4.34380542, 4.35670883, 4.36944785,\n",
              "       4.38202663, 4.39444915, 4.40671925, 4.41884061, 4.4308168 ,\n",
              "       4.44265126, 4.4543473 , 4.46590812, 4.47733681, 4.48863637,\n",
              "       4.49980967, 4.51085951, 4.52178858, 4.53259949, 4.54329478,\n",
              "       4.55387689, 4.56434819, 4.57471098, 4.58496748, 4.59511985])"
            ]
          },
          "metadata": {},
          "execution_count": 76
        }
      ]
    },
    {
      "cell_type": "markdown",
      "metadata": {
        "id": "hyQ9DFkJFVHj"
      },
      "source": [
        "# Good Times!"
      ]
    }
  ],
  "metadata": {
    "kernelspec": {
      "display_name": "Python 3",
      "language": "python",
      "name": "python3"
    },
    "language_info": {
      "codemirror_mode": {
        "name": "ipython",
        "version": 3
      },
      "file_extension": ".py",
      "mimetype": "text/x-python",
      "name": "python",
      "nbconvert_exporter": "python",
      "pygments_lexer": "ipython3",
      "version": "3.6.8"
    },
    "colab": {
      "name": "Intro to NumPy.ipynb",
      "provenance": [],
      "collapsed_sections": [
        "pj9DwrrPFVHh",
        "4iKeOe7iFVHh",
        "BsIg0NHVFVHh",
        "_-fjnvARFVHh",
        "Zuu2GHCXFVHi",
        "YKmoyIxQFVHj",
        "xiD7Ct6JFVHj",
        "qB5gDL78hz_W",
        "Ijk5jE4QpywR"
      ],
      "include_colab_link": true
    }
  },
  "nbformat": 4,
  "nbformat_minor": 0
}