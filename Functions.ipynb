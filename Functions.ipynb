{
  "nbformat": 4,
  "nbformat_minor": 0,
  "metadata": {
    "colab": {
      "name": "Functions.ipynb",
      "provenance": [],
      "collapsed_sections": [],
      "authorship_tag": "ABX9TyP5GBDpLLTFMd1uB0oZNfW2",
      "include_colab_link": true
    },
    "kernelspec": {
      "name": "python3",
      "display_name": "Python 3"
    },
    "language_info": {
      "name": "python"
    }
  },
  "cells": [
    {
      "cell_type": "markdown",
      "metadata": {
        "id": "view-in-github",
        "colab_type": "text"
      },
      "source": [
        "<a href=\"https://colab.research.google.com/github/zubaidak/Summer-Microcredential-Data-Analytics-/blob/main/Functions.ipynb\" target=\"_parent\"><img src=\"https://colab.research.google.com/assets/colab-badge.svg\" alt=\"Open In Colab\"/></a>"
      ]
    },
    {
      "cell_type": "markdown",
      "source": [
        "#Intro to Python IV"
      ],
      "metadata": {
        "id": "KBVydxuiXNkq"
      }
    },
    {
      "cell_type": "markdown",
      "source": [
        "## Function!\n"
      ],
      "metadata": {
        "id": "mc3Jd8odYjUN"
      }
    },
    {
      "cell_type": "markdown",
      "source": [
        "### 1) How to define a function?"
      ],
      "metadata": {
        "id": "-zwZkPmUduFa"
      }
    },
    {
      "cell_type": "code",
      "source": [
        "\"\"\"\n",
        "'def' name_of_function():\n",
        "  whatever the function is supposed to do.\n",
        "\"\"\""
      ],
      "metadata": {
        "colab": {
          "base_uri": "https://localhost:8080/",
          "height": 36
        },
        "id": "ngnPcYnFfdB5",
        "outputId": "bc9b9452-8732-4dfc-a5ae-13a977e77d6e"
      },
      "execution_count": 2,
      "outputs": [
        {
          "output_type": "execute_result",
          "data": {
            "text/plain": [
              "\"\\n'def' name_of_function():\\n  whatever the function is supposed to do.\\n\""
            ],
            "application/vnd.google.colaboratory.intrinsic+json": {
              "type": "string"
            }
          },
          "metadata": {},
          "execution_count": 2
        }
      ]
    },
    {
      "cell_type": "code",
      "source": [
        "def my_function():\n",
        "  print('Hi there')\n",
        "# everytime you end with ' : ' python will automatically indent"
      ],
      "metadata": {
        "id": "5ZNrD6Fgfr5G"
      },
      "execution_count": 5,
      "outputs": []
    },
    {
      "cell_type": "code",
      "source": [
        "type(my_function)"
      ],
      "metadata": {
        "colab": {
          "base_uri": "https://localhost:8080/"
        },
        "id": "_IqGlobXf0sW",
        "outputId": "578de5fe-1c7a-4bdd-c01d-084078e8466d"
      },
      "execution_count": 6,
      "outputs": [
        {
          "output_type": "execute_result",
          "data": {
            "text/plain": [
              "function"
            ]
          },
          "metadata": {},
          "execution_count": 6
        }
      ]
    },
    {
      "cell_type": "code",
      "source": [
        "my_function\n",
        "# will show what the function is but not execute it"
      ],
      "metadata": {
        "colab": {
          "base_uri": "https://localhost:8080/"
        },
        "id": "hmF98lP2f3B3",
        "outputId": "38f66cf4-bbb1-477b-d6c0-dbfa41cdcbda"
      },
      "execution_count": 7,
      "outputs": [
        {
          "output_type": "execute_result",
          "data": {
            "text/plain": [
              "<function __main__.my_function>"
            ]
          },
          "metadata": {},
          "execution_count": 7
        }
      ]
    },
    {
      "cell_type": "code",
      "source": [
        "my_function()\n",
        "# To execute a function"
      ],
      "metadata": {
        "colab": {
          "base_uri": "https://localhost:8080/"
        },
        "id": "InzSTOstgJAq",
        "outputId": "23f3d40b-b541-4013-c9b0-55869cc5dba0"
      },
      "execution_count": 8,
      "outputs": [
        {
          "output_type": "stream",
          "name": "stdout",
          "text": [
            "Hi there\n"
          ]
        }
      ]
    },
    {
      "cell_type": "code",
      "source": [
        "help(my_function)"
      ],
      "metadata": {
        "colab": {
          "base_uri": "https://localhost:8080/"
        },
        "id": "SA2GNniMgKpi",
        "outputId": "cd39cade-a526-44a1-8373-de2bc8511730"
      },
      "execution_count": 9,
      "outputs": [
        {
          "output_type": "stream",
          "name": "stdout",
          "text": [
            "Help on function my_function in module __main__:\n",
            "\n",
            "my_function()\n",
            "\n"
          ]
        }
      ]
    },
    {
      "cell_type": "code",
      "source": [
        "def my_function():\n",
        "  \"\"\"\n",
        "  Created by: Zubaida\n",
        "  Input: None\n",
        "  Output: Hello\n",
        "  \"\"\"\n",
        "  print(\"Hello\")"
      ],
      "metadata": {
        "id": "rxtuz7n3gVts"
      },
      "execution_count": 10,
      "outputs": []
    },
    {
      "cell_type": "code",
      "source": [
        "my_function()"
      ],
      "metadata": {
        "colab": {
          "base_uri": "https://localhost:8080/"
        },
        "id": "tJKDTibfgky3",
        "outputId": "18fa8505-324b-4171-9212-2dfdb9ec030c"
      },
      "execution_count": 11,
      "outputs": [
        {
          "output_type": "stream",
          "name": "stdout",
          "text": [
            "Hello\n"
          ]
        }
      ]
    },
    {
      "cell_type": "code",
      "source": [
        "help(my_function)"
      ],
      "metadata": {
        "colab": {
          "base_uri": "https://localhost:8080/"
        },
        "id": "dqJNgv8kgmZN",
        "outputId": "29a71db8-462f-447c-ab80-9abb82c55919"
      },
      "execution_count": 12,
      "outputs": [
        {
          "output_type": "stream",
          "name": "stdout",
          "text": [
            "Help on function my_function in module __main__:\n",
            "\n",
            "my_function()\n",
            "    Created by: Zubaida\n",
            "    Input: None\n",
            "    Output: Hello\n",
            "\n"
          ]
        }
      ]
    },
    {
      "cell_type": "code",
      "source": [
        "def greetings(name):\n",
        "  \"\"\"\n",
        "  Created by: Zubaida\n",
        "  Input: None\n",
        "  Output: Hello to the user\n",
        "  \"\"\"\n",
        "  print(\"Good afternoon \" + name)"
      ],
      "metadata": {
        "id": "KWEYIXG9gq-e"
      },
      "execution_count": 13,
      "outputs": []
    },
    {
      "cell_type": "code",
      "source": [
        "greetings('John')"
      ],
      "metadata": {
        "colab": {
          "base_uri": "https://localhost:8080/"
        },
        "id": "3gcVSvFSg6aQ",
        "outputId": "c1898401-19d0-4124-dc86-6aec56ef87ec"
      },
      "execution_count": 14,
      "outputs": [
        {
          "output_type": "stream",
          "name": "stdout",
          "text": [
            "Good afternoon John\n"
          ]
        }
      ]
    },
    {
      "cell_type": "code",
      "source": [
        "def greetings2(name = 'John'):\n",
        "  \"\"\"\n",
        "  Created by: Zubaida\n",
        "  Input: None\n",
        "  Output: Hello\n",
        "  \"\"\"\n",
        "  print(\"Good afternoon \" + name)"
      ],
      "metadata": {
        "id": "PQLPNfcqg8yQ"
      },
      "execution_count": 15,
      "outputs": []
    },
    {
      "cell_type": "code",
      "source": [
        "greetings2('Tom')\n",
        "# If you add a name in 'greeting2', it will overwrite the default name John"
      ],
      "metadata": {
        "colab": {
          "base_uri": "https://localhost:8080/"
        },
        "id": "Om9Kfh0jhHlU",
        "outputId": "ee4e4e55-9f33-4191-b1b7-f60caad1dc85"
      },
      "execution_count": 16,
      "outputs": [
        {
          "output_type": "stream",
          "name": "stdout",
          "text": [
            "Good afternoon Tom\n"
          ]
        }
      ]
    },
    {
      "cell_type": "code",
      "source": [
        "name = input(\"Enter your name: \")\n",
        "greetings2(name)"
      ],
      "metadata": {
        "colab": {
          "base_uri": "https://localhost:8080/"
        },
        "id": "CixlBv_mhKoy",
        "outputId": "aa7e3178-b2ae-4f73-99dd-26aee07d5ef8"
      },
      "execution_count": 17,
      "outputs": [
        {
          "output_type": "stream",
          "name": "stdout",
          "text": [
            "Enter your name: Zubaida\n",
            "Good afternoon Zubaida\n"
          ]
        }
      ]
    },
    {
      "cell_type": "code",
      "source": [
        "def add(n1, n2):\n",
        "    return n1 + n2\n",
        "# return tells a function to return something"
      ],
      "metadata": {
        "id": "harNjvPAhy7J"
      },
      "execution_count": 19,
      "outputs": []
    },
    {
      "cell_type": "code",
      "source": [
        "add(34, 89)"
      ],
      "metadata": {
        "colab": {
          "base_uri": "https://localhost:8080/"
        },
        "id": "iOnGRv8Jh7xi",
        "outputId": "4b34c648-07a6-4a8b-abfa-6ca701ec94fe"
      },
      "execution_count": 20,
      "outputs": [
        {
          "output_type": "execute_result",
          "data": {
            "text/plain": [
              "123"
            ]
          },
          "metadata": {},
          "execution_count": 20
        }
      ]
    },
    {
      "cell_type": "code",
      "source": [
        "def even_numbers(n):\n",
        "  \"\"\"\n",
        "  Description: This function prints out even numbers from a given list of numbers.\n",
        "  Created by: Zubaida\n",
        "  Input: list of numbers\n",
        "  Output: even numbers from given list\n",
        "  \"\"\"\n",
        "  num = []\n",
        "  for i in n:\n",
        "      if i % 2 == 0:\n",
        "          num.append(i)\n",
        "  return(num)"
      ],
      "metadata": {
        "id": "2bM5psrFiFeZ"
      },
      "execution_count": 21,
      "outputs": []
    },
    {
      "cell_type": "code",
      "source": [
        "help(even_numbers)"
      ],
      "metadata": {
        "colab": {
          "base_uri": "https://localhost:8080/"
        },
        "id": "E9SSxj9CiyV8",
        "outputId": "ee7aca83-61ec-46e1-f82e-2328fc3e9648"
      },
      "execution_count": 22,
      "outputs": [
        {
          "output_type": "stream",
          "name": "stdout",
          "text": [
            "Help on function even_numbers in module __main__:\n",
            "\n",
            "even_numbers(n)\n",
            "    Description: This function prints out even numbers from a given list of numbers.\n",
            "    Created by: Zubaida\n",
            "    Input: list of numbers\n",
            "    Output: even numbers from given list\n",
            "\n"
          ]
        }
      ]
    },
    {
      "cell_type": "code",
      "source": [
        "even_numbers([23, 56, 33, 90, 8, 7, 4, 7890])"
      ],
      "metadata": {
        "colab": {
          "base_uri": "https://localhost:8080/"
        },
        "id": "jPfYxQXQi1GI",
        "outputId": "9dadb4ef-4ff6-4fe7-f2d9-d04cfa89f88c"
      },
      "execution_count": 23,
      "outputs": [
        {
          "output_type": "execute_result",
          "data": {
            "text/plain": [
              "[56, 90, 8, 4, 7890]"
            ]
          },
          "metadata": {},
          "execution_count": 23
        }
      ]
    },
    {
      "cell_type": "code",
      "source": [
        "even_numbers([23, 33, 7])\n",
        "# If there are no even numbers, it will be blank"
      ],
      "metadata": {
        "colab": {
          "base_uri": "https://localhost:8080/"
        },
        "id": "m2ZM46pujCGX",
        "outputId": "242098cc-d6eb-4231-a0d6-0811f9b7f65c"
      },
      "execution_count": 24,
      "outputs": [
        {
          "output_type": "execute_result",
          "data": {
            "text/plain": [
              "[]"
            ]
          },
          "metadata": {},
          "execution_count": 24
        }
      ]
    },
    {
      "cell_type": "code",
      "source": [
        "def odd_numbers(n):\n",
        "  \"\"\"\n",
        "  Description: This function prints out odd numbers from a given list of numbers.\n",
        "  Created by: Zubaida\n",
        "  Input: list of numbers\n",
        "  Output: odd numbers from given list\n",
        "  \"\"\"\n",
        "  num = []\n",
        "  for i in n:\n",
        "      if i % 2 != 0:\n",
        "          num.append(i)\n",
        "  return(num)"
      ],
      "metadata": {
        "id": "w8TEpT9ujK4C"
      },
      "execution_count": 26,
      "outputs": []
    },
    {
      "cell_type": "code",
      "source": [
        "help(odd_numbers)"
      ],
      "metadata": {
        "colab": {
          "base_uri": "https://localhost:8080/"
        },
        "id": "YrM_oMi7jZos",
        "outputId": "d9964f45-ae7f-4383-9028-4a66f44716df"
      },
      "execution_count": 27,
      "outputs": [
        {
          "output_type": "stream",
          "name": "stdout",
          "text": [
            "Help on function odd_numbers in module __main__:\n",
            "\n",
            "odd_numbers(n)\n",
            "    Description: This function prints out odd numbers from a given list of numbers.\n",
            "    Created by: Zubaida\n",
            "    Input: list of numbers\n",
            "    Output: odd numbers from given list\n",
            "\n"
          ]
        }
      ]
    },
    {
      "cell_type": "code",
      "source": [
        "odd_numbers([2, 3, 4, 5, 6, 7, 8, 9, 10])"
      ],
      "metadata": {
        "colab": {
          "base_uri": "https://localhost:8080/"
        },
        "id": "lRrC9QYTjgIW",
        "outputId": "23503fd0-de2d-476c-ce63-46443da07983"
      },
      "execution_count": 28,
      "outputs": [
        {
          "output_type": "execute_result",
          "data": {
            "text/plain": [
              "[3, 5, 7, 9]"
            ]
          },
          "metadata": {},
          "execution_count": 28
        }
      ]
    },
    {
      "cell_type": "code",
      "source": [
        ""
      ],
      "metadata": {
        "id": "K35pMgqyjl_O"
      },
      "execution_count": null,
      "outputs": []
    }
  ]
}