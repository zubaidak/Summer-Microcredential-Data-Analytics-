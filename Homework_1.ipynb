{
  "nbformat": 4,
  "nbformat_minor": 0,
  "metadata": {
    "colab": {
      "name": "Homework 1.ipynb",
      "provenance": [],
      "collapsed_sections": [
        "elOgKZR009ex"
      ],
      "include_colab_link": true
    },
    "kernelspec": {
      "name": "python3",
      "display_name": "Python 3"
    },
    "language_info": {
      "name": "python"
    }
  },
  "cells": [
    {
      "cell_type": "markdown",
      "metadata": {
        "id": "view-in-github",
        "colab_type": "text"
      },
      "source": [
        "<a href=\"https://colab.research.google.com/github/zubaidak/Summer-Microcredential-Data-Analytics-/blob/main/Homework_1.ipynb\" target=\"_parent\"><img src=\"https://colab.research.google.com/assets/colab-badge.svg\" alt=\"Open In Colab\"/></a>"
      ]
    },
    {
      "cell_type": "markdown",
      "source": [
        "# Answer all the questions!"
      ],
      "metadata": {
        "id": "FkJsXd8D06Rp"
      }
    },
    {
      "cell_type": "markdown",
      "source": [
        "##Write a Python program to get the volume of a sphere with radius 6"
      ],
      "metadata": {
        "id": "elOgKZR009ex"
      }
    },
    {
      "cell_type": "code",
      "source": [
        "r = 6.0\n",
        "# given value of radius is 6\n",
        "pi = 3.1415926536\n",
        "# the irrational number pi is equal to the following based on calculator\n",
        "v = 4.0 / 3.0 * pi * r**3\n",
        "#volume of a sphere is V= 4.0/3.0*pi* r**3\n",
        "\n",
        "print (\"The volume of a sphere with radius 6 is\" , v)"
      ],
      "metadata": {
        "id": "YbhKO6Cs09av",
        "colab": {
          "base_uri": "https://localhost:8080/"
        },
        "outputId": "3dd374ac-5cf1-49bd-e21b-7e213c56f0bb"
      },
      "execution_count": null,
      "outputs": [
        {
          "output_type": "stream",
          "name": "stdout",
          "text": [
            "The volume of a sphere with radius 6 is 904.7786842368\n"
          ]
        }
      ]
    },
    {
      "cell_type": "markdown",
      "source": [
        "##Write a Python program to find whether a given number (accept from the user) is even or odd"
      ],
      "metadata": {
        "id": "OuX7aazu09X1"
      }
    },
    {
      "cell_type": "code",
      "source": [
        "num = int(input(\"Enter a number: \"))\n",
        "#ask for int input from user\n",
        "if num % 2 == 0:\n",
        "    print(\"Your number \",  num, \"is even.\")\n",
        "#if the number divided by 2 has a remainder of zero, it is an even number\n",
        "else: \n",
        "    print(\"Your number \",  num, \"is odd.\")\n",
        "#else the number is odd. (Theorem: if a number is not even, it is odd)"
      ],
      "metadata": {
        "id": "vcYhNNaU09Uz",
        "colab": {
          "base_uri": "https://localhost:8080/"
        },
        "outputId": "df8b61fb-677c-41d5-8f62-50b9e098ba2e"
      },
      "execution_count": null,
      "outputs": [
        {
          "output_type": "stream",
          "name": "stdout",
          "text": [
            "Enter a number: 25\n",
            "Your number  25 is odd.\n"
          ]
        }
      ]
    },
    {
      "cell_type": "markdown",
      "source": [
        "##Write a Python program to count the number 4 in a given list"
      ],
      "metadata": {
        "id": "NP5TZKqO09Rr"
      }
    },
    {
      "cell_type": "code",
      "source": [
        "def count_4(num):\n",
        "    \"\"\"\n",
        "    Description: This function counts the total number of times 4 appears in a given list of numbers.\n",
        "    Code referenced from \"w3resource.com/python-exercises/python-basic-exercise-22.php\" \n",
        "   \n",
        "    Created by: Zubaida\n",
        "    Input: list of numbers\n",
        "    Output: total number of times 4 is found in a list of numbers\n",
        "    \"\"\"\n",
        "    counter = 0\n",
        "    #set up a counter to keep track of how many times 4 is found\n",
        "    for i in num:\n",
        "        if i == 4:\n",
        "            counter = counter + 1\n",
        "    # this for loop will check through the list of values for 4 and if num = 4, we will add 1 to the counter to keep track\n",
        "    return counter\n",
        "    # this return counter tells the function to display the number stored in counter\n",
        "\n",
        "print(count_4([1, 4, 2, 3, 5, 7, 4, 4, 8, 4]))\n"
      ],
      "metadata": {
        "id": "oWZ3vTfW09Oh",
        "colab": {
          "base_uri": "https://localhost:8080/"
        },
        "outputId": "51509488-90b6-4575-e456-3f2a5d2d12a1"
      },
      "execution_count": null,
      "outputs": [
        {
          "output_type": "stream",
          "name": "stdout",
          "text": [
            "4\n"
          ]
        }
      ]
    },
    {
      "cell_type": "markdown",
      "source": [
        "##Write a Python program that will accept the base and height of a triangle and compute the area"
      ],
      "metadata": {
        "id": "IK0FvUoa1MJG"
      }
    },
    {
      "cell_type": "code",
      "source": [
        "a = float(input('Enter the base: '))\n",
        "b = float(input('Enter the height: '))\n",
        "# user inputs two values, the base and height of the triangle\n",
        "\n",
        "area = 0.5 * a * b\n",
        "# formula for area of a triangle is 1/2 * base * height\n",
        "\n",
        "print(area)\n",
        "# print the calculated value for area of the triangle based on given input by user"
      ],
      "metadata": {
        "id": "G02dv4rh1MFs",
        "colab": {
          "base_uri": "https://localhost:8080/"
        },
        "outputId": "53b188ee-0032-4509-aaa3-cdf1ce62148d"
      },
      "execution_count": null,
      "outputs": [
        {
          "output_type": "stream",
          "name": "stdout",
          "text": [
            "Enter the base: 3\n",
            "Enter the height: 4\n",
            "6.0\n"
          ]
        }
      ]
    },
    {
      "cell_type": "markdown",
      "source": [
        "##Write a Python program to convert the distance (in feet) to inches, yards, and miles."
      ],
      "metadata": {
        "id": "sOkeycZk1L5-"
      }
    },
    {
      "cell_type": "code",
      "source": [
        "feet = 64563\n",
        "\n",
        "inches = feet * 12\n",
        "# feet to inches is * 12\n",
        "\n",
        "yards = feet / 3.0\n",
        "# feet to yard is /3.0 formula found at \"https://www.checkyourmath.com/convert/length/feet_yards.php\" \n",
        "\n",
        "miles = feet / 5280.0\n",
        "# feet to miles is /5,280.0 formula found at \"https://www.checkyourmath.com/convert/length/feet_miles.php\"\n",
        "\n",
        "\n",
        "print(\"The distance in inches is\", inches, \"inches.\")\n",
        "print(\"The distance in yards is\", yards, \"yards.\")\n",
        "print(\"The distance in miles is %.2f miles.\" % miles)\n",
        "# the %.2f shortens the decimal to 2 places for the value"
      ],
      "metadata": {
        "id": "YtW-ZxqB1L2c",
        "colab": {
          "base_uri": "https://localhost:8080/"
        },
        "outputId": "a259a964-c197-47ec-b268-23a15e6d06d7"
      },
      "execution_count": 17,
      "outputs": [
        {
          "output_type": "stream",
          "name": "stdout",
          "text": [
            "The distance in inches is 774756 inches.\n",
            "The distance in yards is 21521.0 yards.\n",
            "The distance in miles is 12.23 miles.\n"
          ]
        }
      ]
    }
  ]
}